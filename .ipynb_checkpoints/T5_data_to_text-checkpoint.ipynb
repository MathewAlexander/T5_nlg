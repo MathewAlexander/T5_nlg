{
 "cells": [
  {
   "cell_type": "markdown",
   "metadata": {
    "id": "Viuf5RhzKG00"
   },
   "source": []
  },
  {
   "cell_type": "code",
   "execution_count": null,
   "metadata": {
    "id": "-gogiO-IKF-e"
   },
   "outputs": [],
   "source": []
  },
  {
   "cell_type": "code",
   "execution_count": null,
   "metadata": {
    "id": "vYq5R3XiKKDf"
   },
   "outputs": [],
   "source": []
  },
  {
   "cell_type": "code",
   "execution_count": null,
   "metadata": {
    "id": "MetMTAcsKKG_"
   },
   "outputs": [],
   "source": []
  },
  {
   "cell_type": "markdown",
   "metadata": {
    "id": "sf1uUqSEKKgk"
   },
   "source": [
    "## Installing the required packages"
   ]
  },
  {
   "cell_type": "code",
   "execution_count": 1,
   "metadata": {
    "colab": {
     "base_uri": "https://localhost:8080/"
    },
    "id": "A6ki1-m-5UUA",
    "outputId": "f82515e3-5863-43ea-9864-b17d8d0dd533"
   },
   "outputs": [
    {
     "name": "stdout",
     "output_type": "stream",
     "text": [
      "Collecting transformers\n",
      "\u001b[?25l  Downloading https://files.pythonhosted.org/packages/81/91/61d69d58a1af1bd81d9ca9d62c90a6de3ab80d77f27c5df65d9a2c1f5626/transformers-4.5.0-py3-none-any.whl (2.1MB)\n",
      "\r",
      "\u001b[K     |▏                               | 10kB 20.3MB/s eta 0:00:01\r",
      "\u001b[K     |▎                               | 20kB 28.4MB/s eta 0:00:01\r",
      "\u001b[K     |▌                               | 30kB 23.7MB/s eta 0:00:01\r",
      "\u001b[K     |▋                               | 40kB 27.2MB/s eta 0:00:01\r",
      "\u001b[K     |▊                               | 51kB 25.2MB/s eta 0:00:01\r",
      "\u001b[K     |█                               | 61kB 27.9MB/s eta 0:00:01\r",
      "\u001b[K     |█                               | 71kB 18.6MB/s eta 0:00:01\r",
      "\u001b[K     |█▏                              | 81kB 19.6MB/s eta 0:00:01\r",
      "\u001b[K     |█▍                              | 92kB 17.3MB/s eta 0:00:01\r",
      "\u001b[K     |█▌                              | 102kB 18.3MB/s eta 0:00:01\r",
      "\u001b[K     |█▊                              | 112kB 18.3MB/s eta 0:00:01\r",
      "\u001b[K     |█▉                              | 122kB 18.3MB/s eta 0:00:01\r",
      "\u001b[K     |██                              | 133kB 18.3MB/s eta 0:00:01\r",
      "\u001b[K     |██▏                             | 143kB 18.3MB/s eta 0:00:01\r",
      "\u001b[K     |██▎                             | 153kB 18.3MB/s eta 0:00:01\r",
      "\u001b[K     |██▍                             | 163kB 18.3MB/s eta 0:00:01\r",
      "\u001b[K     |██▋                             | 174kB 18.3MB/s eta 0:00:01\r",
      "\u001b[K     |██▊                             | 184kB 18.3MB/s eta 0:00:01\r",
      "\u001b[K     |███                             | 194kB 18.3MB/s eta 0:00:01\r",
      "\u001b[K     |███                             | 204kB 18.3MB/s eta 0:00:01\r",
      "\u001b[K     |███▏                            | 215kB 18.3MB/s eta 0:00:01\r",
      "\u001b[K     |███▍                            | 225kB 18.3MB/s eta 0:00:01\r",
      "\u001b[K     |███▌                            | 235kB 18.3MB/s eta 0:00:01\r",
      "\u001b[K     |███▋                            | 245kB 18.3MB/s eta 0:00:01\r",
      "\u001b[K     |███▉                            | 256kB 18.3MB/s eta 0:00:01\r",
      "\u001b[K     |████                            | 266kB 18.3MB/s eta 0:00:01\r",
      "\u001b[K     |████▏                           | 276kB 18.3MB/s eta 0:00:01\r",
      "\u001b[K     |████▎                           | 286kB 18.3MB/s eta 0:00:01\r",
      "\u001b[K     |████▍                           | 296kB 18.3MB/s eta 0:00:01\r",
      "\u001b[K     |████▋                           | 307kB 18.3MB/s eta 0:00:01\r",
      "\u001b[K     |████▊                           | 317kB 18.3MB/s eta 0:00:01\r",
      "\u001b[K     |████▉                           | 327kB 18.3MB/s eta 0:00:01\r",
      "\u001b[K     |█████                           | 337kB 18.3MB/s eta 0:00:01\r",
      "\u001b[K     |█████▏                          | 348kB 18.3MB/s eta 0:00:01\r",
      "\u001b[K     |█████▍                          | 358kB 18.3MB/s eta 0:00:01\r",
      "\u001b[K     |█████▌                          | 368kB 18.3MB/s eta 0:00:01\r",
      "\u001b[K     |█████▋                          | 378kB 18.3MB/s eta 0:00:01\r",
      "\u001b[K     |█████▉                          | 389kB 18.3MB/s eta 0:00:01\r",
      "\u001b[K     |██████                          | 399kB 18.3MB/s eta 0:00:01\r",
      "\u001b[K     |██████                          | 409kB 18.3MB/s eta 0:00:01\r",
      "\u001b[K     |██████▎                         | 419kB 18.3MB/s eta 0:00:01\r",
      "\u001b[K     |██████▍                         | 430kB 18.3MB/s eta 0:00:01\r",
      "\u001b[K     |██████▋                         | 440kB 18.3MB/s eta 0:00:01\r",
      "\u001b[K     |██████▊                         | 450kB 18.3MB/s eta 0:00:01\r",
      "\u001b[K     |██████▉                         | 460kB 18.3MB/s eta 0:00:01\r",
      "\u001b[K     |███████                         | 471kB 18.3MB/s eta 0:00:01\r",
      "\u001b[K     |███████▏                        | 481kB 18.3MB/s eta 0:00:01\r",
      "\u001b[K     |███████▎                        | 491kB 18.3MB/s eta 0:00:01\r",
      "\u001b[K     |███████▌                        | 501kB 18.3MB/s eta 0:00:01\r",
      "\u001b[K     |███████▋                        | 512kB 18.3MB/s eta 0:00:01\r",
      "\u001b[K     |███████▉                        | 522kB 18.3MB/s eta 0:00:01\r",
      "\u001b[K     |████████                        | 532kB 18.3MB/s eta 0:00:01\r",
      "\u001b[K     |████████                        | 542kB 18.3MB/s eta 0:00:01\r",
      "\u001b[K     |████████▎                       | 552kB 18.3MB/s eta 0:00:01\r",
      "\u001b[K     |████████▍                       | 563kB 18.3MB/s eta 0:00:01\r",
      "\u001b[K     |████████▌                       | 573kB 18.3MB/s eta 0:00:01\r",
      "\u001b[K     |████████▊                       | 583kB 18.3MB/s eta 0:00:01\r",
      "\u001b[K     |████████▉                       | 593kB 18.3MB/s eta 0:00:01\r",
      "\u001b[K     |█████████                       | 604kB 18.3MB/s eta 0:00:01\r",
      "\u001b[K     |█████████▏                      | 614kB 18.3MB/s eta 0:00:01\r",
      "\u001b[K     |█████████▎                      | 624kB 18.3MB/s eta 0:00:01\r",
      "\u001b[K     |█████████▌                      | 634kB 18.3MB/s eta 0:00:01\r",
      "\u001b[K     |█████████▋                      | 645kB 18.3MB/s eta 0:00:01\r",
      "\u001b[K     |█████████▊                      | 655kB 18.3MB/s eta 0:00:01\r",
      "\u001b[K     |██████████                      | 665kB 18.3MB/s eta 0:00:01\r",
      "\u001b[K     |██████████                      | 675kB 18.3MB/s eta 0:00:01\r",
      "\u001b[K     |██████████▎                     | 686kB 18.3MB/s eta 0:00:01\r",
      "\u001b[K     |██████████▍                     | 696kB 18.3MB/s eta 0:00:01\r",
      "\u001b[K     |██████████▌                     | 706kB 18.3MB/s eta 0:00:01\r",
      "\u001b[K     |██████████▊                     | 716kB 18.3MB/s eta 0:00:01\r",
      "\u001b[K     |██████████▉                     | 727kB 18.3MB/s eta 0:00:01\r",
      "\u001b[K     |███████████                     | 737kB 18.3MB/s eta 0:00:01\r",
      "\u001b[K     |███████████▏                    | 747kB 18.3MB/s eta 0:00:01\r",
      "\u001b[K     |███████████▎                    | 757kB 18.3MB/s eta 0:00:01\r",
      "\u001b[K     |███████████▌                    | 768kB 18.3MB/s eta 0:00:01\r",
      "\u001b[K     |███████████▋                    | 778kB 18.3MB/s eta 0:00:01\r",
      "\u001b[K     |███████████▊                    | 788kB 18.3MB/s eta 0:00:01\r",
      "\u001b[K     |████████████                    | 798kB 18.3MB/s eta 0:00:01\r",
      "\u001b[K     |████████████                    | 808kB 18.3MB/s eta 0:00:01\r",
      "\u001b[K     |████████████▏                   | 819kB 18.3MB/s eta 0:00:01\r",
      "\u001b[K     |████████████▍                   | 829kB 18.3MB/s eta 0:00:01\r",
      "\u001b[K     |████████████▌                   | 839kB 18.3MB/s eta 0:00:01\r",
      "\u001b[K     |████████████▊                   | 849kB 18.3MB/s eta 0:00:01\r",
      "\u001b[K     |████████████▉                   | 860kB 18.3MB/s eta 0:00:01\r",
      "\u001b[K     |█████████████                   | 870kB 18.3MB/s eta 0:00:01\r",
      "\u001b[K     |█████████████▏                  | 880kB 18.3MB/s eta 0:00:01\r",
      "\u001b[K     |█████████████▎                  | 890kB 18.3MB/s eta 0:00:01\r",
      "\u001b[K     |█████████████▍                  | 901kB 18.3MB/s eta 0:00:01\r",
      "\u001b[K     |█████████████▋                  | 911kB 18.3MB/s eta 0:00:01\r",
      "\u001b[K     |█████████████▊                  | 921kB 18.3MB/s eta 0:00:01\r",
      "\u001b[K     |██████████████                  | 931kB 18.3MB/s eta 0:00:01\r",
      "\u001b[K     |██████████████                  | 942kB 18.3MB/s eta 0:00:01\r",
      "\u001b[K     |██████████████▏                 | 952kB 18.3MB/s eta 0:00:01\r",
      "\u001b[K     |██████████████▍                 | 962kB 18.3MB/s eta 0:00:01\r",
      "\u001b[K     |██████████████▌                 | 972kB 18.3MB/s eta 0:00:01\r",
      "\u001b[K     |██████████████▋                 | 983kB 18.3MB/s eta 0:00:01\r",
      "\u001b[K     |██████████████▉                 | 993kB 18.3MB/s eta 0:00:01\r",
      "\u001b[K     |███████████████                 | 1.0MB 18.3MB/s eta 0:00:01\r",
      "\u001b[K     |███████████████▏                | 1.0MB 18.3MB/s eta 0:00:01\r",
      "\u001b[K     |███████████████▎                | 1.0MB 18.3MB/s eta 0:00:01\r",
      "\u001b[K     |███████████████▍                | 1.0MB 18.3MB/s eta 0:00:01\r",
      "\u001b[K     |███████████████▋                | 1.0MB 18.3MB/s eta 0:00:01\r",
      "\u001b[K     |███████████████▊                | 1.1MB 18.3MB/s eta 0:00:01\r",
      "\u001b[K     |███████████████▉                | 1.1MB 18.3MB/s eta 0:00:01\r",
      "\u001b[K     |████████████████                | 1.1MB 18.3MB/s eta 0:00:01\r",
      "\u001b[K     |████████████████▏               | 1.1MB 18.3MB/s eta 0:00:01\r",
      "\u001b[K     |████████████████▍               | 1.1MB 18.3MB/s eta 0:00:01\r",
      "\u001b[K     |████████████████▌               | 1.1MB 18.3MB/s eta 0:00:01\r",
      "\u001b[K     |████████████████▋               | 1.1MB 18.3MB/s eta 0:00:01\r",
      "\u001b[K     |████████████████▉               | 1.1MB 18.3MB/s eta 0:00:01\r",
      "\u001b[K     |█████████████████               | 1.1MB 18.3MB/s eta 0:00:01\r",
      "\u001b[K     |█████████████████               | 1.1MB 18.3MB/s eta 0:00:01\r",
      "\u001b[K     |█████████████████▎              | 1.2MB 18.3MB/s eta 0:00:01\r",
      "\u001b[K     |█████████████████▍              | 1.2MB 18.3MB/s eta 0:00:01\r",
      "\u001b[K     |█████████████████▌              | 1.2MB 18.3MB/s eta 0:00:01\r",
      "\u001b[K     |█████████████████▊              | 1.2MB 18.3MB/s eta 0:00:01\r",
      "\u001b[K     |█████████████████▉              | 1.2MB 18.3MB/s eta 0:00:01\r",
      "\u001b[K     |██████████████████              | 1.2MB 18.3MB/s eta 0:00:01\r",
      "\u001b[K     |██████████████████▏             | 1.2MB 18.3MB/s eta 0:00:01\r",
      "\u001b[K     |██████████████████▎             | 1.2MB 18.3MB/s eta 0:00:01\r",
      "\u001b[K     |██████████████████▌             | 1.2MB 18.3MB/s eta 0:00:01\r",
      "\u001b[K     |██████████████████▋             | 1.2MB 18.3MB/s eta 0:00:01\r",
      "\u001b[K     |██████████████████▊             | 1.3MB 18.3MB/s eta 0:00:01\r",
      "\u001b[K     |███████████████████             | 1.3MB 18.3MB/s eta 0:00:01\r",
      "\u001b[K     |███████████████████             | 1.3MB 18.3MB/s eta 0:00:01\r",
      "\u001b[K     |███████████████████▎            | 1.3MB 18.3MB/s eta 0:00:01\r",
      "\u001b[K     |███████████████████▍            | 1.3MB 18.3MB/s eta 0:00:01\r",
      "\u001b[K     |███████████████████▌            | 1.3MB 18.3MB/s eta 0:00:01\r",
      "\u001b[K     |███████████████████▊            | 1.3MB 18.3MB/s eta 0:00:01\r",
      "\u001b[K     |███████████████████▉            | 1.3MB 18.3MB/s eta 0:00:01\r",
      "\u001b[K     |████████████████████            | 1.3MB 18.3MB/s eta 0:00:01\r",
      "\u001b[K     |████████████████████▏           | 1.4MB 18.3MB/s eta 0:00:01\r",
      "\u001b[K     |████████████████████▎           | 1.4MB 18.3MB/s eta 0:00:01\r",
      "\u001b[K     |████████████████████▌           | 1.4MB 18.3MB/s eta 0:00:01\r",
      "\u001b[K     |████████████████████▋           | 1.4MB 18.3MB/s eta 0:00:01\r",
      "\u001b[K     |████████████████████▊           | 1.4MB 18.3MB/s eta 0:00:01\r",
      "\u001b[K     |█████████████████████           | 1.4MB 18.3MB/s eta 0:00:01\r",
      "\u001b[K     |█████████████████████           | 1.4MB 18.3MB/s eta 0:00:01\r",
      "\u001b[K     |█████████████████████▏          | 1.4MB 18.3MB/s eta 0:00:01\r",
      "\u001b[K     |█████████████████████▍          | 1.4MB 18.3MB/s eta 0:00:01\r",
      "\u001b[K     |█████████████████████▌          | 1.4MB 18.3MB/s eta 0:00:01\r",
      "\u001b[K     |█████████████████████▊          | 1.5MB 18.3MB/s eta 0:00:01\r",
      "\u001b[K     |█████████████████████▉          | 1.5MB 18.3MB/s eta 0:00:01\r",
      "\u001b[K     |██████████████████████          | 1.5MB 18.3MB/s eta 0:00:01\r",
      "\u001b[K     |██████████████████████▏         | 1.5MB 18.3MB/s eta 0:00:01\r",
      "\u001b[K     |██████████████████████▎         | 1.5MB 18.3MB/s eta 0:00:01\r",
      "\u001b[K     |██████████████████████▍         | 1.5MB 18.3MB/s eta 0:00:01\r",
      "\u001b[K     |██████████████████████▋         | 1.5MB 18.3MB/s eta 0:00:01\r",
      "\u001b[K     |██████████████████████▊         | 1.5MB 18.3MB/s eta 0:00:01\r",
      "\u001b[K     |███████████████████████         | 1.5MB 18.3MB/s eta 0:00:01\r",
      "\u001b[K     |███████████████████████         | 1.5MB 18.3MB/s eta 0:00:01\r",
      "\u001b[K     |███████████████████████▏        | 1.6MB 18.3MB/s eta 0:00:01\r",
      "\u001b[K     |███████████████████████▍        | 1.6MB 18.3MB/s eta 0:00:01\r",
      "\u001b[K     |███████████████████████▌        | 1.6MB 18.3MB/s eta 0:00:01\r",
      "\u001b[K     |███████████████████████▋        | 1.6MB 18.3MB/s eta 0:00:01\r",
      "\u001b[K     |███████████████████████▉        | 1.6MB 18.3MB/s eta 0:00:01\r",
      "\u001b[K     |████████████████████████        | 1.6MB 18.3MB/s eta 0:00:01\r",
      "\u001b[K     |████████████████████████▏       | 1.6MB 18.3MB/s eta 0:00:01\r",
      "\u001b[K     |████████████████████████▎       | 1.6MB 18.3MB/s eta 0:00:01\r",
      "\u001b[K     |████████████████████████▍       | 1.6MB 18.3MB/s eta 0:00:01\r",
      "\u001b[K     |████████████████████████▋       | 1.6MB 18.3MB/s eta 0:00:01\r",
      "\u001b[K     |████████████████████████▊       | 1.7MB 18.3MB/s eta 0:00:01\r",
      "\u001b[K     |████████████████████████▉       | 1.7MB 18.3MB/s eta 0:00:01\r",
      "\u001b[K     |█████████████████████████       | 1.7MB 18.3MB/s eta 0:00:01\r",
      "\u001b[K     |█████████████████████████▏      | 1.7MB 18.3MB/s eta 0:00:01\r",
      "\u001b[K     |█████████████████████████▍      | 1.7MB 18.3MB/s eta 0:00:01\r",
      "\u001b[K     |█████████████████████████▌      | 1.7MB 18.3MB/s eta 0:00:01\r",
      "\u001b[K     |█████████████████████████▋      | 1.7MB 18.3MB/s eta 0:00:01\r",
      "\u001b[K     |█████████████████████████▉      | 1.7MB 18.3MB/s eta 0:00:01\r",
      "\u001b[K     |██████████████████████████      | 1.7MB 18.3MB/s eta 0:00:01\r",
      "\u001b[K     |██████████████████████████      | 1.8MB 18.3MB/s eta 0:00:01\r",
      "\u001b[K     |██████████████████████████▎     | 1.8MB 18.3MB/s eta 0:00:01\r",
      "\u001b[K     |██████████████████████████▍     | 1.8MB 18.3MB/s eta 0:00:01\r",
      "\u001b[K     |██████████████████████████▋     | 1.8MB 18.3MB/s eta 0:00:01\r",
      "\u001b[K     |██████████████████████████▊     | 1.8MB 18.3MB/s eta 0:00:01\r",
      "\u001b[K     |██████████████████████████▉     | 1.8MB 18.3MB/s eta 0:00:01\r",
      "\u001b[K     |███████████████████████████     | 1.8MB 18.3MB/s eta 0:00:01\r",
      "\u001b[K     |███████████████████████████▏    | 1.8MB 18.3MB/s eta 0:00:01\r",
      "\u001b[K     |███████████████████████████▎    | 1.8MB 18.3MB/s eta 0:00:01\r",
      "\u001b[K     |███████████████████████████▌    | 1.8MB 18.3MB/s eta 0:00:01\r",
      "\u001b[K     |███████████████████████████▋    | 1.9MB 18.3MB/s eta 0:00:01\r",
      "\u001b[K     |███████████████████████████▉    | 1.9MB 18.3MB/s eta 0:00:01\r",
      "\u001b[K     |████████████████████████████    | 1.9MB 18.3MB/s eta 0:00:01\r",
      "\u001b[K     |████████████████████████████    | 1.9MB 18.3MB/s eta 0:00:01\r",
      "\u001b[K     |████████████████████████████▎   | 1.9MB 18.3MB/s eta 0:00:01\r",
      "\u001b[K     |████████████████████████████▍   | 1.9MB 18.3MB/s eta 0:00:01\r",
      "\u001b[K     |████████████████████████████▌   | 1.9MB 18.3MB/s eta 0:00:01\r",
      "\u001b[K     |████████████████████████████▊   | 1.9MB 18.3MB/s eta 0:00:01\r",
      "\u001b[K     |████████████████████████████▉   | 1.9MB 18.3MB/s eta 0:00:01\r",
      "\u001b[K     |█████████████████████████████   | 1.9MB 18.3MB/s eta 0:00:01\r",
      "\u001b[K     |█████████████████████████████▏  | 2.0MB 18.3MB/s eta 0:00:01\r",
      "\u001b[K     |█████████████████████████████▎  | 2.0MB 18.3MB/s eta 0:00:01\r",
      "\u001b[K     |█████████████████████████████▌  | 2.0MB 18.3MB/s eta 0:00:01\r",
      "\u001b[K     |█████████████████████████████▋  | 2.0MB 18.3MB/s eta 0:00:01\r",
      "\u001b[K     |█████████████████████████████▊  | 2.0MB 18.3MB/s eta 0:00:01\r",
      "\u001b[K     |██████████████████████████████  | 2.0MB 18.3MB/s eta 0:00:01\r",
      "\u001b[K     |██████████████████████████████  | 2.0MB 18.3MB/s eta 0:00:01\r",
      "\u001b[K     |██████████████████████████████▎ | 2.0MB 18.3MB/s eta 0:00:01\r",
      "\u001b[K     |██████████████████████████████▍ | 2.0MB 18.3MB/s eta 0:00:01\r",
      "\u001b[K     |██████████████████████████████▌ | 2.0MB 18.3MB/s eta 0:00:01\r",
      "\u001b[K     |██████████████████████████████▊ | 2.1MB 18.3MB/s eta 0:00:01\r",
      "\u001b[K     |██████████████████████████████▉ | 2.1MB 18.3MB/s eta 0:00:01\r",
      "\u001b[K     |███████████████████████████████ | 2.1MB 18.3MB/s eta 0:00:01\r",
      "\u001b[K     |███████████████████████████████▏| 2.1MB 18.3MB/s eta 0:00:01\r",
      "\u001b[K     |███████████████████████████████▎| 2.1MB 18.3MB/s eta 0:00:01\r",
      "\u001b[K     |███████████████████████████████▌| 2.1MB 18.3MB/s eta 0:00:01\r",
      "\u001b[K     |███████████████████████████████▋| 2.1MB 18.3MB/s eta 0:00:01\r",
      "\u001b[K     |███████████████████████████████▊| 2.1MB 18.3MB/s eta 0:00:01\r",
      "\u001b[K     |████████████████████████████████| 2.1MB 18.3MB/s eta 0:00:01\r",
      "\u001b[K     |████████████████████████████████| 2.2MB 18.3MB/s \n",
      "\u001b[?25hRequirement already satisfied: packaging in /usr/local/lib/python3.7/dist-packages (from transformers) (20.9)\n",
      "Requirement already satisfied: regex!=2019.12.17 in /usr/local/lib/python3.7/dist-packages (from transformers) (2019.12.20)\n",
      "Requirement already satisfied: importlib-metadata; python_version < \"3.8\" in /usr/local/lib/python3.7/dist-packages (from transformers) (3.8.1)\n",
      "Requirement already satisfied: filelock in /usr/local/lib/python3.7/dist-packages (from transformers) (3.0.12)\n",
      "Requirement already satisfied: tqdm>=4.27 in /usr/local/lib/python3.7/dist-packages (from transformers) (4.41.1)\n",
      "Collecting tokenizers<0.11,>=0.10.1\n",
      "\u001b[?25l  Downloading https://files.pythonhosted.org/packages/ae/04/5b870f26a858552025a62f1649c20d29d2672c02ff3c3fb4c688ca46467a/tokenizers-0.10.2-cp37-cp37m-manylinux2010_x86_64.whl (3.3MB)\n",
      "\u001b[K     |████████████████████████████████| 3.3MB 54.3MB/s \n",
      "\u001b[?25hRequirement already satisfied: numpy>=1.17 in /usr/local/lib/python3.7/dist-packages (from transformers) (1.19.5)\n",
      "Collecting sacremoses\n",
      "\u001b[?25l  Downloading https://files.pythonhosted.org/packages/08/cd/342e584ee544d044fb573ae697404ce22ede086c9e87ce5960772084cad0/sacremoses-0.0.44.tar.gz (862kB)\n",
      "\u001b[K     |████████████████████████████████| 870kB 52.9MB/s \n",
      "\u001b[?25hRequirement already satisfied: requests in /usr/local/lib/python3.7/dist-packages (from transformers) (2.23.0)\n",
      "Requirement already satisfied: pyparsing>=2.0.2 in /usr/local/lib/python3.7/dist-packages (from packaging->transformers) (2.4.7)\n",
      "Requirement already satisfied: zipp>=0.5 in /usr/local/lib/python3.7/dist-packages (from importlib-metadata; python_version < \"3.8\"->transformers) (3.4.1)\n",
      "Requirement already satisfied: typing-extensions>=3.6.4; python_version < \"3.8\" in /usr/local/lib/python3.7/dist-packages (from importlib-metadata; python_version < \"3.8\"->transformers) (3.7.4.3)\n",
      "Requirement already satisfied: six in /usr/local/lib/python3.7/dist-packages (from sacremoses->transformers) (1.15.0)\n",
      "Requirement already satisfied: click in /usr/local/lib/python3.7/dist-packages (from sacremoses->transformers) (7.1.2)\n",
      "Requirement already satisfied: joblib in /usr/local/lib/python3.7/dist-packages (from sacremoses->transformers) (1.0.1)\n",
      "Requirement already satisfied: urllib3!=1.25.0,!=1.25.1,<1.26,>=1.21.1 in /usr/local/lib/python3.7/dist-packages (from requests->transformers) (1.24.3)\n",
      "Requirement already satisfied: idna<3,>=2.5 in /usr/local/lib/python3.7/dist-packages (from requests->transformers) (2.10)\n",
      "Requirement already satisfied: certifi>=2017.4.17 in /usr/local/lib/python3.7/dist-packages (from requests->transformers) (2020.12.5)\n",
      "Requirement already satisfied: chardet<4,>=3.0.2 in /usr/local/lib/python3.7/dist-packages (from requests->transformers) (3.0.4)\n",
      "Building wheels for collected packages: sacremoses\n",
      "  Building wheel for sacremoses (setup.py) ... \u001b[?25l\u001b[?25hdone\n",
      "  Created wheel for sacremoses: filename=sacremoses-0.0.44-cp37-none-any.whl size=886084 sha256=f4f6fa06fd0d04650dc2d43287bb763579bc54be1cd38b2b9a2f3b48f0303605\n",
      "  Stored in directory: /root/.cache/pip/wheels/3e/fb/c0/13ab4d63d537658f448366744654323077c4d90069b6512f3c\n",
      "Successfully built sacremoses\n",
      "Installing collected packages: tokenizers, sacremoses, transformers\n",
      "Successfully installed sacremoses-0.0.44 tokenizers-0.10.2 transformers-4.5.0\n",
      "Collecting sentencepiece\n",
      "\u001b[?25l  Downloading https://files.pythonhosted.org/packages/f5/99/e0808cb947ba10f575839c43e8fafc9cc44e4a7a2c8f79c60db48220a577/sentencepiece-0.1.95-cp37-cp37m-manylinux2014_x86_64.whl (1.2MB)\n",
      "\u001b[K     |████████████████████████████████| 1.2MB 18.9MB/s \n",
      "\u001b[?25hInstalling collected packages: sentencepiece\n",
      "Successfully installed sentencepiece-0.1.95\n"
     ]
    }
   ],
   "source": [
    "!pip install transformers\n",
    "!pip install sentencepiece"
   ]
  },
  {
   "cell_type": "code",
   "execution_count": 1,
   "metadata": {
    "id": "0cxu1nJO4dGT"
   },
   "outputs": [],
   "source": []
  },
  {
   "cell_type": "markdown",
   "metadata": {
    "id": "CalKR6o4KP22"
   },
   "source": [
    "## Importing required libraries"
   ]
  },
  {
   "cell_type": "code",
   "execution_count": 2,
   "metadata": {
    "id": "CB6rH4GenWpN"
   },
   "outputs": [],
   "source": [
    "import pandas as pd\n",
    "import os\n",
    "import torch\n",
    "from transformers import T5Tokenizer, T5ForConditionalGeneration\n",
    "from transformers.optimization import  Adafactor \n",
    "import time\n",
    "import warnings\n",
    "warnings.filterwarnings('ignore')"
   ]
  },
  {
   "cell_type": "code",
   "execution_count": 27,
   "metadata": {
    "id": "4GZK-pXuKUw9"
   },
   "outputs": [],
   "source": []
  },
  {
   "cell_type": "markdown",
   "metadata": {
    "id": "-aWMq3DOKl34"
   },
   "source": [
    "## Loading the processed data "
   ]
  },
  {
   "cell_type": "code",
   "execution_count": 39,
   "metadata": {
    "id": "8CTSGvJQVChn"
   },
   "outputs": [],
   "source": []
  },
  {
   "cell_type": "markdown",
   "metadata": {
    "id": "hq0jrINwVNLr"
   },
   "source": [
    "## Please look at the code [here](https://gist.github.com/MathewAlexander/d4853c2268a2293e479b773f0c317030) to preprocess the data"
   ]
  },
  {
   "cell_type": "code",
   "execution_count": 3,
   "metadata": {
    "colab": {
     "base_uri": "https://localhost:8080/"
    },
    "id": "VKZGSyWA0NUk",
    "outputId": "dcccfda5-037a-4264-e010-93f069bd95d6"
   },
   "outputs": [
    {
     "name": "stdout",
     "output_type": "stream",
     "text": [
      "/content/drive/My Drive/WebNLG2020\n"
     ]
    }
   ],
   "source": [
    "cd drive/My\\ Drive/WebNLG2020/"
   ]
  },
  {
   "cell_type": "code",
   "execution_count": 4,
   "metadata": {
    "id": "BQ2uifxUnVgk"
   },
   "outputs": [],
   "source": [
    "train_df=pd.read_csv('webNLG2020_train.csv', index_col=[0])"
   ]
  },
  {
   "cell_type": "markdown",
   "metadata": {
    "id": "j_dPYbsVK5zO"
   },
   "source": [
    "Trimming off a few data points and so that a batch would not leave any remainder, hence some lines of codes can be avoided (Okay, this might be a hackish way of doing it )"
   ]
  },
  {
   "cell_type": "code",
   "execution_count": 5,
   "metadata": {
    "id": "-WpyPzBKyXf1"
   },
   "outputs": [],
   "source": [
    "train_df=train_df.iloc[  :35000,:]"
   ]
  },
  {
   "cell_type": "code",
   "execution_count": 6,
   "metadata": {
    "id": "WgsIcgFgRCwN"
   },
   "outputs": [],
   "source": [
    "train_df=train_df.sample(frac = 1)"
   ]
  },
  {
   "cell_type": "code",
   "execution_count": 7,
   "metadata": {
    "id": "zGfaigiqnZW5"
   },
   "outputs": [],
   "source": [
    "batch_size=8\n",
    "num_of_batches=len(train_df)/batch_size\n",
    "num_of_epochs=4"
   ]
  },
  {
   "cell_type": "code",
   "execution_count": 8,
   "metadata": {
    "id": "SQDfdl3mxYf_"
   },
   "outputs": [],
   "source": [
    "num_of_batches=int(num_of_batches)"
   ]
  },
  {
   "cell_type": "code",
   "execution_count": 8,
   "metadata": {
    "id": "L_QyyxbkKXf2"
   },
   "outputs": [],
   "source": []
  },
  {
   "cell_type": "markdown",
   "metadata": {
    "id": "9kfjkXbiKeyU"
   },
   "source": [
    "Checking for the GPU availability"
   ]
  },
  {
   "cell_type": "code",
   "execution_count": 9,
   "metadata": {
    "colab": {
     "base_uri": "https://localhost:8080/"
    },
    "id": "nHkcKfKRr1BC",
    "outputId": "3e4e6e27-ac60-47a7-e851-5da78b6e62ed"
   },
   "outputs": [
    {
     "name": "stdout",
     "output_type": "stream",
     "text": [
      "Running on the GPU\n"
     ]
    }
   ],
   "source": [
    "if torch.cuda.is_available():\n",
    "    dev = torch.device(\"cuda:0\") \n",
    "    print(\"Running on the GPU\")\n",
    "else:\n",
    "    dev = torch.device(\"cpu\")\n",
    "    print(\"Running on the CPU\")"
   ]
  },
  {
   "cell_type": "markdown",
   "metadata": {
    "id": "_JaUpURdLAla"
   },
   "source": [
    "## Loading the pretrained model and tokenizer"
   ]
  },
  {
   "cell_type": "code",
   "execution_count": 10,
   "metadata": {
    "colab": {
     "base_uri": "https://localhost:8080/",
     "height": 1000,
     "referenced_widgets": [
      "e64389198303458ea65b1514e6ae91ae",
      "541a8f948d994cefa96b434086c000da",
      "fcb437074f2640e4b6716938853c7cda",
      "dc104e2c6a73446ba0d238ea90952ff1",
      "efbb05a8150540d5b63806da094242bf",
      "e9c6aa787d7e443197aa0de89849c2cf",
      "e815f78cb5b04361bcbf621a8fa8b0b7",
      "2654217c4c064994bca349a6f20b94e6",
      "0c7e75201e6e4c04963b57cabcfc525c",
      "fe888ee5cc15454a88914f010c18d389",
      "4eab4a545af4430aa0953f1a9897001d",
      "7ca1625e5c904128a6b90424519542ff",
      "3b146d520e59471eb9092d53ad685523",
      "d5c02331cdad45b19953a0f985e3d961",
      "2a5c927f4a5c4d959d26fb806a3c8980",
      "964af578fa5f4822a9bf7af8c6fb7b02",
      "615577220759413abe6a5cfe30470dc4",
      "29904c8a6734471b9a780137ae862de5",
      "15f6f633519a4d8d92664176eb1aeb76",
      "b1b232b5750447009d910214e4a4c6b9",
      "3d49aa452b7248d7ad3b56486c94e58b",
      "7efc99954eb44bcf85989d71f2c15eac",
      "8d9ecc02356342b99f597204a93a283f",
      "19aef11e25994d86b72777cc2e47c81c",
      "f56f513e403b4e89abd171094c93d204",
      "a51d3f9d1e0c45cf9de5a96ccfe3a826",
      "2f0903e4d6c7480a86bab857a75f360f",
      "e48d4068acdc445e99b34b74e452d70d",
      "9bb04e2e16694ba4bad5e4faba6e6179",
      "d03a74b33b7943aa8c694ec8a660fafe",
      "01ad9c215fae4296bc9e72b1b3c4fa64",
      "d28ebddb437e4e68bdd3da8cdae1991c"
     ]
    },
    "id": "xVAXjd6wsOM6",
    "outputId": "31496177-c0fd-4953-94a8-4e852171cbd2"
   },
   "outputs": [
    {
     "data": {
      "application/vnd.jupyter.widget-view+json": {
       "model_id": "e64389198303458ea65b1514e6ae91ae",
       "version_major": 2,
       "version_minor": 0
      },
      "text/plain": [
       "HBox(children=(FloatProgress(value=0.0, description='Downloading', max=791656.0, style=ProgressStyle(descripti…"
      ]
     },
     "metadata": {
      "tags": []
     },
     "output_type": "display_data"
    },
    {
     "name": "stdout",
     "output_type": "stream",
     "text": [
      "\n"
     ]
    },
    {
     "data": {
      "application/vnd.jupyter.widget-view+json": {
       "model_id": "0c7e75201e6e4c04963b57cabcfc525c",
       "version_major": 2,
       "version_minor": 0
      },
      "text/plain": [
       "HBox(children=(FloatProgress(value=0.0, description='Downloading', max=1389353.0, style=ProgressStyle(descript…"
      ]
     },
     "metadata": {
      "tags": []
     },
     "output_type": "display_data"
    },
    {
     "name": "stdout",
     "output_type": "stream",
     "text": [
      "\n"
     ]
    },
    {
     "data": {
      "application/vnd.jupyter.widget-view+json": {
       "model_id": "615577220759413abe6a5cfe30470dc4",
       "version_major": 2,
       "version_minor": 0
      },
      "text/plain": [
       "HBox(children=(FloatProgress(value=0.0, description='Downloading', max=1199.0, style=ProgressStyle(description…"
      ]
     },
     "metadata": {
      "tags": []
     },
     "output_type": "display_data"
    },
    {
     "name": "stdout",
     "output_type": "stream",
     "text": [
      "\n"
     ]
    },
    {
     "data": {
      "application/vnd.jupyter.widget-view+json": {
       "model_id": "f56f513e403b4e89abd171094c93d204",
       "version_major": 2,
       "version_minor": 0
      },
      "text/plain": [
       "HBox(children=(FloatProgress(value=0.0, description='Downloading', max=891691430.0, style=ProgressStyle(descri…"
      ]
     },
     "metadata": {
      "tags": []
     },
     "output_type": "display_data"
    },
    {
     "name": "stdout",
     "output_type": "stream",
     "text": [
      "\n"
     ]
    },
    {
     "data": {
      "text/plain": [
       "T5ForConditionalGeneration(\n",
       "  (shared): Embedding(32128, 768)\n",
       "  (encoder): T5Stack(\n",
       "    (embed_tokens): Embedding(32128, 768)\n",
       "    (block): ModuleList(\n",
       "      (0): T5Block(\n",
       "        (layer): ModuleList(\n",
       "          (0): T5LayerSelfAttention(\n",
       "            (SelfAttention): T5Attention(\n",
       "              (q): Linear(in_features=768, out_features=768, bias=False)\n",
       "              (k): Linear(in_features=768, out_features=768, bias=False)\n",
       "              (v): Linear(in_features=768, out_features=768, bias=False)\n",
       "              (o): Linear(in_features=768, out_features=768, bias=False)\n",
       "              (relative_attention_bias): Embedding(32, 12)\n",
       "            )\n",
       "            (layer_norm): T5LayerNorm()\n",
       "            (dropout): Dropout(p=0.1, inplace=False)\n",
       "          )\n",
       "          (1): T5LayerFF(\n",
       "            (DenseReluDense): T5DenseReluDense(\n",
       "              (wi): Linear(in_features=768, out_features=3072, bias=False)\n",
       "              (wo): Linear(in_features=3072, out_features=768, bias=False)\n",
       "              (dropout): Dropout(p=0.1, inplace=False)\n",
       "            )\n",
       "            (layer_norm): T5LayerNorm()\n",
       "            (dropout): Dropout(p=0.1, inplace=False)\n",
       "          )\n",
       "        )\n",
       "      )\n",
       "      (1): T5Block(\n",
       "        (layer): ModuleList(\n",
       "          (0): T5LayerSelfAttention(\n",
       "            (SelfAttention): T5Attention(\n",
       "              (q): Linear(in_features=768, out_features=768, bias=False)\n",
       "              (k): Linear(in_features=768, out_features=768, bias=False)\n",
       "              (v): Linear(in_features=768, out_features=768, bias=False)\n",
       "              (o): Linear(in_features=768, out_features=768, bias=False)\n",
       "            )\n",
       "            (layer_norm): T5LayerNorm()\n",
       "            (dropout): Dropout(p=0.1, inplace=False)\n",
       "          )\n",
       "          (1): T5LayerFF(\n",
       "            (DenseReluDense): T5DenseReluDense(\n",
       "              (wi): Linear(in_features=768, out_features=3072, bias=False)\n",
       "              (wo): Linear(in_features=3072, out_features=768, bias=False)\n",
       "              (dropout): Dropout(p=0.1, inplace=False)\n",
       "            )\n",
       "            (layer_norm): T5LayerNorm()\n",
       "            (dropout): Dropout(p=0.1, inplace=False)\n",
       "          )\n",
       "        )\n",
       "      )\n",
       "      (2): T5Block(\n",
       "        (layer): ModuleList(\n",
       "          (0): T5LayerSelfAttention(\n",
       "            (SelfAttention): T5Attention(\n",
       "              (q): Linear(in_features=768, out_features=768, bias=False)\n",
       "              (k): Linear(in_features=768, out_features=768, bias=False)\n",
       "              (v): Linear(in_features=768, out_features=768, bias=False)\n",
       "              (o): Linear(in_features=768, out_features=768, bias=False)\n",
       "            )\n",
       "            (layer_norm): T5LayerNorm()\n",
       "            (dropout): Dropout(p=0.1, inplace=False)\n",
       "          )\n",
       "          (1): T5LayerFF(\n",
       "            (DenseReluDense): T5DenseReluDense(\n",
       "              (wi): Linear(in_features=768, out_features=3072, bias=False)\n",
       "              (wo): Linear(in_features=3072, out_features=768, bias=False)\n",
       "              (dropout): Dropout(p=0.1, inplace=False)\n",
       "            )\n",
       "            (layer_norm): T5LayerNorm()\n",
       "            (dropout): Dropout(p=0.1, inplace=False)\n",
       "          )\n",
       "        )\n",
       "      )\n",
       "      (3): T5Block(\n",
       "        (layer): ModuleList(\n",
       "          (0): T5LayerSelfAttention(\n",
       "            (SelfAttention): T5Attention(\n",
       "              (q): Linear(in_features=768, out_features=768, bias=False)\n",
       "              (k): Linear(in_features=768, out_features=768, bias=False)\n",
       "              (v): Linear(in_features=768, out_features=768, bias=False)\n",
       "              (o): Linear(in_features=768, out_features=768, bias=False)\n",
       "            )\n",
       "            (layer_norm): T5LayerNorm()\n",
       "            (dropout): Dropout(p=0.1, inplace=False)\n",
       "          )\n",
       "          (1): T5LayerFF(\n",
       "            (DenseReluDense): T5DenseReluDense(\n",
       "              (wi): Linear(in_features=768, out_features=3072, bias=False)\n",
       "              (wo): Linear(in_features=3072, out_features=768, bias=False)\n",
       "              (dropout): Dropout(p=0.1, inplace=False)\n",
       "            )\n",
       "            (layer_norm): T5LayerNorm()\n",
       "            (dropout): Dropout(p=0.1, inplace=False)\n",
       "          )\n",
       "        )\n",
       "      )\n",
       "      (4): T5Block(\n",
       "        (layer): ModuleList(\n",
       "          (0): T5LayerSelfAttention(\n",
       "            (SelfAttention): T5Attention(\n",
       "              (q): Linear(in_features=768, out_features=768, bias=False)\n",
       "              (k): Linear(in_features=768, out_features=768, bias=False)\n",
       "              (v): Linear(in_features=768, out_features=768, bias=False)\n",
       "              (o): Linear(in_features=768, out_features=768, bias=False)\n",
       "            )\n",
       "            (layer_norm): T5LayerNorm()\n",
       "            (dropout): Dropout(p=0.1, inplace=False)\n",
       "          )\n",
       "          (1): T5LayerFF(\n",
       "            (DenseReluDense): T5DenseReluDense(\n",
       "              (wi): Linear(in_features=768, out_features=3072, bias=False)\n",
       "              (wo): Linear(in_features=3072, out_features=768, bias=False)\n",
       "              (dropout): Dropout(p=0.1, inplace=False)\n",
       "            )\n",
       "            (layer_norm): T5LayerNorm()\n",
       "            (dropout): Dropout(p=0.1, inplace=False)\n",
       "          )\n",
       "        )\n",
       "      )\n",
       "      (5): T5Block(\n",
       "        (layer): ModuleList(\n",
       "          (0): T5LayerSelfAttention(\n",
       "            (SelfAttention): T5Attention(\n",
       "              (q): Linear(in_features=768, out_features=768, bias=False)\n",
       "              (k): Linear(in_features=768, out_features=768, bias=False)\n",
       "              (v): Linear(in_features=768, out_features=768, bias=False)\n",
       "              (o): Linear(in_features=768, out_features=768, bias=False)\n",
       "            )\n",
       "            (layer_norm): T5LayerNorm()\n",
       "            (dropout): Dropout(p=0.1, inplace=False)\n",
       "          )\n",
       "          (1): T5LayerFF(\n",
       "            (DenseReluDense): T5DenseReluDense(\n",
       "              (wi): Linear(in_features=768, out_features=3072, bias=False)\n",
       "              (wo): Linear(in_features=3072, out_features=768, bias=False)\n",
       "              (dropout): Dropout(p=0.1, inplace=False)\n",
       "            )\n",
       "            (layer_norm): T5LayerNorm()\n",
       "            (dropout): Dropout(p=0.1, inplace=False)\n",
       "          )\n",
       "        )\n",
       "      )\n",
       "      (6): T5Block(\n",
       "        (layer): ModuleList(\n",
       "          (0): T5LayerSelfAttention(\n",
       "            (SelfAttention): T5Attention(\n",
       "              (q): Linear(in_features=768, out_features=768, bias=False)\n",
       "              (k): Linear(in_features=768, out_features=768, bias=False)\n",
       "              (v): Linear(in_features=768, out_features=768, bias=False)\n",
       "              (o): Linear(in_features=768, out_features=768, bias=False)\n",
       "            )\n",
       "            (layer_norm): T5LayerNorm()\n",
       "            (dropout): Dropout(p=0.1, inplace=False)\n",
       "          )\n",
       "          (1): T5LayerFF(\n",
       "            (DenseReluDense): T5DenseReluDense(\n",
       "              (wi): Linear(in_features=768, out_features=3072, bias=False)\n",
       "              (wo): Linear(in_features=3072, out_features=768, bias=False)\n",
       "              (dropout): Dropout(p=0.1, inplace=False)\n",
       "            )\n",
       "            (layer_norm): T5LayerNorm()\n",
       "            (dropout): Dropout(p=0.1, inplace=False)\n",
       "          )\n",
       "        )\n",
       "      )\n",
       "      (7): T5Block(\n",
       "        (layer): ModuleList(\n",
       "          (0): T5LayerSelfAttention(\n",
       "            (SelfAttention): T5Attention(\n",
       "              (q): Linear(in_features=768, out_features=768, bias=False)\n",
       "              (k): Linear(in_features=768, out_features=768, bias=False)\n",
       "              (v): Linear(in_features=768, out_features=768, bias=False)\n",
       "              (o): Linear(in_features=768, out_features=768, bias=False)\n",
       "            )\n",
       "            (layer_norm): T5LayerNorm()\n",
       "            (dropout): Dropout(p=0.1, inplace=False)\n",
       "          )\n",
       "          (1): T5LayerFF(\n",
       "            (DenseReluDense): T5DenseReluDense(\n",
       "              (wi): Linear(in_features=768, out_features=3072, bias=False)\n",
       "              (wo): Linear(in_features=3072, out_features=768, bias=False)\n",
       "              (dropout): Dropout(p=0.1, inplace=False)\n",
       "            )\n",
       "            (layer_norm): T5LayerNorm()\n",
       "            (dropout): Dropout(p=0.1, inplace=False)\n",
       "          )\n",
       "        )\n",
       "      )\n",
       "      (8): T5Block(\n",
       "        (layer): ModuleList(\n",
       "          (0): T5LayerSelfAttention(\n",
       "            (SelfAttention): T5Attention(\n",
       "              (q): Linear(in_features=768, out_features=768, bias=False)\n",
       "              (k): Linear(in_features=768, out_features=768, bias=False)\n",
       "              (v): Linear(in_features=768, out_features=768, bias=False)\n",
       "              (o): Linear(in_features=768, out_features=768, bias=False)\n",
       "            )\n",
       "            (layer_norm): T5LayerNorm()\n",
       "            (dropout): Dropout(p=0.1, inplace=False)\n",
       "          )\n",
       "          (1): T5LayerFF(\n",
       "            (DenseReluDense): T5DenseReluDense(\n",
       "              (wi): Linear(in_features=768, out_features=3072, bias=False)\n",
       "              (wo): Linear(in_features=3072, out_features=768, bias=False)\n",
       "              (dropout): Dropout(p=0.1, inplace=False)\n",
       "            )\n",
       "            (layer_norm): T5LayerNorm()\n",
       "            (dropout): Dropout(p=0.1, inplace=False)\n",
       "          )\n",
       "        )\n",
       "      )\n",
       "      (9): T5Block(\n",
       "        (layer): ModuleList(\n",
       "          (0): T5LayerSelfAttention(\n",
       "            (SelfAttention): T5Attention(\n",
       "              (q): Linear(in_features=768, out_features=768, bias=False)\n",
       "              (k): Linear(in_features=768, out_features=768, bias=False)\n",
       "              (v): Linear(in_features=768, out_features=768, bias=False)\n",
       "              (o): Linear(in_features=768, out_features=768, bias=False)\n",
       "            )\n",
       "            (layer_norm): T5LayerNorm()\n",
       "            (dropout): Dropout(p=0.1, inplace=False)\n",
       "          )\n",
       "          (1): T5LayerFF(\n",
       "            (DenseReluDense): T5DenseReluDense(\n",
       "              (wi): Linear(in_features=768, out_features=3072, bias=False)\n",
       "              (wo): Linear(in_features=3072, out_features=768, bias=False)\n",
       "              (dropout): Dropout(p=0.1, inplace=False)\n",
       "            )\n",
       "            (layer_norm): T5LayerNorm()\n",
       "            (dropout): Dropout(p=0.1, inplace=False)\n",
       "          )\n",
       "        )\n",
       "      )\n",
       "      (10): T5Block(\n",
       "        (layer): ModuleList(\n",
       "          (0): T5LayerSelfAttention(\n",
       "            (SelfAttention): T5Attention(\n",
       "              (q): Linear(in_features=768, out_features=768, bias=False)\n",
       "              (k): Linear(in_features=768, out_features=768, bias=False)\n",
       "              (v): Linear(in_features=768, out_features=768, bias=False)\n",
       "              (o): Linear(in_features=768, out_features=768, bias=False)\n",
       "            )\n",
       "            (layer_norm): T5LayerNorm()\n",
       "            (dropout): Dropout(p=0.1, inplace=False)\n",
       "          )\n",
       "          (1): T5LayerFF(\n",
       "            (DenseReluDense): T5DenseReluDense(\n",
       "              (wi): Linear(in_features=768, out_features=3072, bias=False)\n",
       "              (wo): Linear(in_features=3072, out_features=768, bias=False)\n",
       "              (dropout): Dropout(p=0.1, inplace=False)\n",
       "            )\n",
       "            (layer_norm): T5LayerNorm()\n",
       "            (dropout): Dropout(p=0.1, inplace=False)\n",
       "          )\n",
       "        )\n",
       "      )\n",
       "      (11): T5Block(\n",
       "        (layer): ModuleList(\n",
       "          (0): T5LayerSelfAttention(\n",
       "            (SelfAttention): T5Attention(\n",
       "              (q): Linear(in_features=768, out_features=768, bias=False)\n",
       "              (k): Linear(in_features=768, out_features=768, bias=False)\n",
       "              (v): Linear(in_features=768, out_features=768, bias=False)\n",
       "              (o): Linear(in_features=768, out_features=768, bias=False)\n",
       "            )\n",
       "            (layer_norm): T5LayerNorm()\n",
       "            (dropout): Dropout(p=0.1, inplace=False)\n",
       "          )\n",
       "          (1): T5LayerFF(\n",
       "            (DenseReluDense): T5DenseReluDense(\n",
       "              (wi): Linear(in_features=768, out_features=3072, bias=False)\n",
       "              (wo): Linear(in_features=3072, out_features=768, bias=False)\n",
       "              (dropout): Dropout(p=0.1, inplace=False)\n",
       "            )\n",
       "            (layer_norm): T5LayerNorm()\n",
       "            (dropout): Dropout(p=0.1, inplace=False)\n",
       "          )\n",
       "        )\n",
       "      )\n",
       "    )\n",
       "    (final_layer_norm): T5LayerNorm()\n",
       "    (dropout): Dropout(p=0.1, inplace=False)\n",
       "  )\n",
       "  (decoder): T5Stack(\n",
       "    (embed_tokens): Embedding(32128, 768)\n",
       "    (block): ModuleList(\n",
       "      (0): T5Block(\n",
       "        (layer): ModuleList(\n",
       "          (0): T5LayerSelfAttention(\n",
       "            (SelfAttention): T5Attention(\n",
       "              (q): Linear(in_features=768, out_features=768, bias=False)\n",
       "              (k): Linear(in_features=768, out_features=768, bias=False)\n",
       "              (v): Linear(in_features=768, out_features=768, bias=False)\n",
       "              (o): Linear(in_features=768, out_features=768, bias=False)\n",
       "              (relative_attention_bias): Embedding(32, 12)\n",
       "            )\n",
       "            (layer_norm): T5LayerNorm()\n",
       "            (dropout): Dropout(p=0.1, inplace=False)\n",
       "          )\n",
       "          (1): T5LayerCrossAttention(\n",
       "            (EncDecAttention): T5Attention(\n",
       "              (q): Linear(in_features=768, out_features=768, bias=False)\n",
       "              (k): Linear(in_features=768, out_features=768, bias=False)\n",
       "              (v): Linear(in_features=768, out_features=768, bias=False)\n",
       "              (o): Linear(in_features=768, out_features=768, bias=False)\n",
       "            )\n",
       "            (layer_norm): T5LayerNorm()\n",
       "            (dropout): Dropout(p=0.1, inplace=False)\n",
       "          )\n",
       "          (2): T5LayerFF(\n",
       "            (DenseReluDense): T5DenseReluDense(\n",
       "              (wi): Linear(in_features=768, out_features=3072, bias=False)\n",
       "              (wo): Linear(in_features=3072, out_features=768, bias=False)\n",
       "              (dropout): Dropout(p=0.1, inplace=False)\n",
       "            )\n",
       "            (layer_norm): T5LayerNorm()\n",
       "            (dropout): Dropout(p=0.1, inplace=False)\n",
       "          )\n",
       "        )\n",
       "      )\n",
       "      (1): T5Block(\n",
       "        (layer): ModuleList(\n",
       "          (0): T5LayerSelfAttention(\n",
       "            (SelfAttention): T5Attention(\n",
       "              (q): Linear(in_features=768, out_features=768, bias=False)\n",
       "              (k): Linear(in_features=768, out_features=768, bias=False)\n",
       "              (v): Linear(in_features=768, out_features=768, bias=False)\n",
       "              (o): Linear(in_features=768, out_features=768, bias=False)\n",
       "            )\n",
       "            (layer_norm): T5LayerNorm()\n",
       "            (dropout): Dropout(p=0.1, inplace=False)\n",
       "          )\n",
       "          (1): T5LayerCrossAttention(\n",
       "            (EncDecAttention): T5Attention(\n",
       "              (q): Linear(in_features=768, out_features=768, bias=False)\n",
       "              (k): Linear(in_features=768, out_features=768, bias=False)\n",
       "              (v): Linear(in_features=768, out_features=768, bias=False)\n",
       "              (o): Linear(in_features=768, out_features=768, bias=False)\n",
       "            )\n",
       "            (layer_norm): T5LayerNorm()\n",
       "            (dropout): Dropout(p=0.1, inplace=False)\n",
       "          )\n",
       "          (2): T5LayerFF(\n",
       "            (DenseReluDense): T5DenseReluDense(\n",
       "              (wi): Linear(in_features=768, out_features=3072, bias=False)\n",
       "              (wo): Linear(in_features=3072, out_features=768, bias=False)\n",
       "              (dropout): Dropout(p=0.1, inplace=False)\n",
       "            )\n",
       "            (layer_norm): T5LayerNorm()\n",
       "            (dropout): Dropout(p=0.1, inplace=False)\n",
       "          )\n",
       "        )\n",
       "      )\n",
       "      (2): T5Block(\n",
       "        (layer): ModuleList(\n",
       "          (0): T5LayerSelfAttention(\n",
       "            (SelfAttention): T5Attention(\n",
       "              (q): Linear(in_features=768, out_features=768, bias=False)\n",
       "              (k): Linear(in_features=768, out_features=768, bias=False)\n",
       "              (v): Linear(in_features=768, out_features=768, bias=False)\n",
       "              (o): Linear(in_features=768, out_features=768, bias=False)\n",
       "            )\n",
       "            (layer_norm): T5LayerNorm()\n",
       "            (dropout): Dropout(p=0.1, inplace=False)\n",
       "          )\n",
       "          (1): T5LayerCrossAttention(\n",
       "            (EncDecAttention): T5Attention(\n",
       "              (q): Linear(in_features=768, out_features=768, bias=False)\n",
       "              (k): Linear(in_features=768, out_features=768, bias=False)\n",
       "              (v): Linear(in_features=768, out_features=768, bias=False)\n",
       "              (o): Linear(in_features=768, out_features=768, bias=False)\n",
       "            )\n",
       "            (layer_norm): T5LayerNorm()\n",
       "            (dropout): Dropout(p=0.1, inplace=False)\n",
       "          )\n",
       "          (2): T5LayerFF(\n",
       "            (DenseReluDense): T5DenseReluDense(\n",
       "              (wi): Linear(in_features=768, out_features=3072, bias=False)\n",
       "              (wo): Linear(in_features=3072, out_features=768, bias=False)\n",
       "              (dropout): Dropout(p=0.1, inplace=False)\n",
       "            )\n",
       "            (layer_norm): T5LayerNorm()\n",
       "            (dropout): Dropout(p=0.1, inplace=False)\n",
       "          )\n",
       "        )\n",
       "      )\n",
       "      (3): T5Block(\n",
       "        (layer): ModuleList(\n",
       "          (0): T5LayerSelfAttention(\n",
       "            (SelfAttention): T5Attention(\n",
       "              (q): Linear(in_features=768, out_features=768, bias=False)\n",
       "              (k): Linear(in_features=768, out_features=768, bias=False)\n",
       "              (v): Linear(in_features=768, out_features=768, bias=False)\n",
       "              (o): Linear(in_features=768, out_features=768, bias=False)\n",
       "            )\n",
       "            (layer_norm): T5LayerNorm()\n",
       "            (dropout): Dropout(p=0.1, inplace=False)\n",
       "          )\n",
       "          (1): T5LayerCrossAttention(\n",
       "            (EncDecAttention): T5Attention(\n",
       "              (q): Linear(in_features=768, out_features=768, bias=False)\n",
       "              (k): Linear(in_features=768, out_features=768, bias=False)\n",
       "              (v): Linear(in_features=768, out_features=768, bias=False)\n",
       "              (o): Linear(in_features=768, out_features=768, bias=False)\n",
       "            )\n",
       "            (layer_norm): T5LayerNorm()\n",
       "            (dropout): Dropout(p=0.1, inplace=False)\n",
       "          )\n",
       "          (2): T5LayerFF(\n",
       "            (DenseReluDense): T5DenseReluDense(\n",
       "              (wi): Linear(in_features=768, out_features=3072, bias=False)\n",
       "              (wo): Linear(in_features=3072, out_features=768, bias=False)\n",
       "              (dropout): Dropout(p=0.1, inplace=False)\n",
       "            )\n",
       "            (layer_norm): T5LayerNorm()\n",
       "            (dropout): Dropout(p=0.1, inplace=False)\n",
       "          )\n",
       "        )\n",
       "      )\n",
       "      (4): T5Block(\n",
       "        (layer): ModuleList(\n",
       "          (0): T5LayerSelfAttention(\n",
       "            (SelfAttention): T5Attention(\n",
       "              (q): Linear(in_features=768, out_features=768, bias=False)\n",
       "              (k): Linear(in_features=768, out_features=768, bias=False)\n",
       "              (v): Linear(in_features=768, out_features=768, bias=False)\n",
       "              (o): Linear(in_features=768, out_features=768, bias=False)\n",
       "            )\n",
       "            (layer_norm): T5LayerNorm()\n",
       "            (dropout): Dropout(p=0.1, inplace=False)\n",
       "          )\n",
       "          (1): T5LayerCrossAttention(\n",
       "            (EncDecAttention): T5Attention(\n",
       "              (q): Linear(in_features=768, out_features=768, bias=False)\n",
       "              (k): Linear(in_features=768, out_features=768, bias=False)\n",
       "              (v): Linear(in_features=768, out_features=768, bias=False)\n",
       "              (o): Linear(in_features=768, out_features=768, bias=False)\n",
       "            )\n",
       "            (layer_norm): T5LayerNorm()\n",
       "            (dropout): Dropout(p=0.1, inplace=False)\n",
       "          )\n",
       "          (2): T5LayerFF(\n",
       "            (DenseReluDense): T5DenseReluDense(\n",
       "              (wi): Linear(in_features=768, out_features=3072, bias=False)\n",
       "              (wo): Linear(in_features=3072, out_features=768, bias=False)\n",
       "              (dropout): Dropout(p=0.1, inplace=False)\n",
       "            )\n",
       "            (layer_norm): T5LayerNorm()\n",
       "            (dropout): Dropout(p=0.1, inplace=False)\n",
       "          )\n",
       "        )\n",
       "      )\n",
       "      (5): T5Block(\n",
       "        (layer): ModuleList(\n",
       "          (0): T5LayerSelfAttention(\n",
       "            (SelfAttention): T5Attention(\n",
       "              (q): Linear(in_features=768, out_features=768, bias=False)\n",
       "              (k): Linear(in_features=768, out_features=768, bias=False)\n",
       "              (v): Linear(in_features=768, out_features=768, bias=False)\n",
       "              (o): Linear(in_features=768, out_features=768, bias=False)\n",
       "            )\n",
       "            (layer_norm): T5LayerNorm()\n",
       "            (dropout): Dropout(p=0.1, inplace=False)\n",
       "          )\n",
       "          (1): T5LayerCrossAttention(\n",
       "            (EncDecAttention): T5Attention(\n",
       "              (q): Linear(in_features=768, out_features=768, bias=False)\n",
       "              (k): Linear(in_features=768, out_features=768, bias=False)\n",
       "              (v): Linear(in_features=768, out_features=768, bias=False)\n",
       "              (o): Linear(in_features=768, out_features=768, bias=False)\n",
       "            )\n",
       "            (layer_norm): T5LayerNorm()\n",
       "            (dropout): Dropout(p=0.1, inplace=False)\n",
       "          )\n",
       "          (2): T5LayerFF(\n",
       "            (DenseReluDense): T5DenseReluDense(\n",
       "              (wi): Linear(in_features=768, out_features=3072, bias=False)\n",
       "              (wo): Linear(in_features=3072, out_features=768, bias=False)\n",
       "              (dropout): Dropout(p=0.1, inplace=False)\n",
       "            )\n",
       "            (layer_norm): T5LayerNorm()\n",
       "            (dropout): Dropout(p=0.1, inplace=False)\n",
       "          )\n",
       "        )\n",
       "      )\n",
       "      (6): T5Block(\n",
       "        (layer): ModuleList(\n",
       "          (0): T5LayerSelfAttention(\n",
       "            (SelfAttention): T5Attention(\n",
       "              (q): Linear(in_features=768, out_features=768, bias=False)\n",
       "              (k): Linear(in_features=768, out_features=768, bias=False)\n",
       "              (v): Linear(in_features=768, out_features=768, bias=False)\n",
       "              (o): Linear(in_features=768, out_features=768, bias=False)\n",
       "            )\n",
       "            (layer_norm): T5LayerNorm()\n",
       "            (dropout): Dropout(p=0.1, inplace=False)\n",
       "          )\n",
       "          (1): T5LayerCrossAttention(\n",
       "            (EncDecAttention): T5Attention(\n",
       "              (q): Linear(in_features=768, out_features=768, bias=False)\n",
       "              (k): Linear(in_features=768, out_features=768, bias=False)\n",
       "              (v): Linear(in_features=768, out_features=768, bias=False)\n",
       "              (o): Linear(in_features=768, out_features=768, bias=False)\n",
       "            )\n",
       "            (layer_norm): T5LayerNorm()\n",
       "            (dropout): Dropout(p=0.1, inplace=False)\n",
       "          )\n",
       "          (2): T5LayerFF(\n",
       "            (DenseReluDense): T5DenseReluDense(\n",
       "              (wi): Linear(in_features=768, out_features=3072, bias=False)\n",
       "              (wo): Linear(in_features=3072, out_features=768, bias=False)\n",
       "              (dropout): Dropout(p=0.1, inplace=False)\n",
       "            )\n",
       "            (layer_norm): T5LayerNorm()\n",
       "            (dropout): Dropout(p=0.1, inplace=False)\n",
       "          )\n",
       "        )\n",
       "      )\n",
       "      (7): T5Block(\n",
       "        (layer): ModuleList(\n",
       "          (0): T5LayerSelfAttention(\n",
       "            (SelfAttention): T5Attention(\n",
       "              (q): Linear(in_features=768, out_features=768, bias=False)\n",
       "              (k): Linear(in_features=768, out_features=768, bias=False)\n",
       "              (v): Linear(in_features=768, out_features=768, bias=False)\n",
       "              (o): Linear(in_features=768, out_features=768, bias=False)\n",
       "            )\n",
       "            (layer_norm): T5LayerNorm()\n",
       "            (dropout): Dropout(p=0.1, inplace=False)\n",
       "          )\n",
       "          (1): T5LayerCrossAttention(\n",
       "            (EncDecAttention): T5Attention(\n",
       "              (q): Linear(in_features=768, out_features=768, bias=False)\n",
       "              (k): Linear(in_features=768, out_features=768, bias=False)\n",
       "              (v): Linear(in_features=768, out_features=768, bias=False)\n",
       "              (o): Linear(in_features=768, out_features=768, bias=False)\n",
       "            )\n",
       "            (layer_norm): T5LayerNorm()\n",
       "            (dropout): Dropout(p=0.1, inplace=False)\n",
       "          )\n",
       "          (2): T5LayerFF(\n",
       "            (DenseReluDense): T5DenseReluDense(\n",
       "              (wi): Linear(in_features=768, out_features=3072, bias=False)\n",
       "              (wo): Linear(in_features=3072, out_features=768, bias=False)\n",
       "              (dropout): Dropout(p=0.1, inplace=False)\n",
       "            )\n",
       "            (layer_norm): T5LayerNorm()\n",
       "            (dropout): Dropout(p=0.1, inplace=False)\n",
       "          )\n",
       "        )\n",
       "      )\n",
       "      (8): T5Block(\n",
       "        (layer): ModuleList(\n",
       "          (0): T5LayerSelfAttention(\n",
       "            (SelfAttention): T5Attention(\n",
       "              (q): Linear(in_features=768, out_features=768, bias=False)\n",
       "              (k): Linear(in_features=768, out_features=768, bias=False)\n",
       "              (v): Linear(in_features=768, out_features=768, bias=False)\n",
       "              (o): Linear(in_features=768, out_features=768, bias=False)\n",
       "            )\n",
       "            (layer_norm): T5LayerNorm()\n",
       "            (dropout): Dropout(p=0.1, inplace=False)\n",
       "          )\n",
       "          (1): T5LayerCrossAttention(\n",
       "            (EncDecAttention): T5Attention(\n",
       "              (q): Linear(in_features=768, out_features=768, bias=False)\n",
       "              (k): Linear(in_features=768, out_features=768, bias=False)\n",
       "              (v): Linear(in_features=768, out_features=768, bias=False)\n",
       "              (o): Linear(in_features=768, out_features=768, bias=False)\n",
       "            )\n",
       "            (layer_norm): T5LayerNorm()\n",
       "            (dropout): Dropout(p=0.1, inplace=False)\n",
       "          )\n",
       "          (2): T5LayerFF(\n",
       "            (DenseReluDense): T5DenseReluDense(\n",
       "              (wi): Linear(in_features=768, out_features=3072, bias=False)\n",
       "              (wo): Linear(in_features=3072, out_features=768, bias=False)\n",
       "              (dropout): Dropout(p=0.1, inplace=False)\n",
       "            )\n",
       "            (layer_norm): T5LayerNorm()\n",
       "            (dropout): Dropout(p=0.1, inplace=False)\n",
       "          )\n",
       "        )\n",
       "      )\n",
       "      (9): T5Block(\n",
       "        (layer): ModuleList(\n",
       "          (0): T5LayerSelfAttention(\n",
       "            (SelfAttention): T5Attention(\n",
       "              (q): Linear(in_features=768, out_features=768, bias=False)\n",
       "              (k): Linear(in_features=768, out_features=768, bias=False)\n",
       "              (v): Linear(in_features=768, out_features=768, bias=False)\n",
       "              (o): Linear(in_features=768, out_features=768, bias=False)\n",
       "            )\n",
       "            (layer_norm): T5LayerNorm()\n",
       "            (dropout): Dropout(p=0.1, inplace=False)\n",
       "          )\n",
       "          (1): T5LayerCrossAttention(\n",
       "            (EncDecAttention): T5Attention(\n",
       "              (q): Linear(in_features=768, out_features=768, bias=False)\n",
       "              (k): Linear(in_features=768, out_features=768, bias=False)\n",
       "              (v): Linear(in_features=768, out_features=768, bias=False)\n",
       "              (o): Linear(in_features=768, out_features=768, bias=False)\n",
       "            )\n",
       "            (layer_norm): T5LayerNorm()\n",
       "            (dropout): Dropout(p=0.1, inplace=False)\n",
       "          )\n",
       "          (2): T5LayerFF(\n",
       "            (DenseReluDense): T5DenseReluDense(\n",
       "              (wi): Linear(in_features=768, out_features=3072, bias=False)\n",
       "              (wo): Linear(in_features=3072, out_features=768, bias=False)\n",
       "              (dropout): Dropout(p=0.1, inplace=False)\n",
       "            )\n",
       "            (layer_norm): T5LayerNorm()\n",
       "            (dropout): Dropout(p=0.1, inplace=False)\n",
       "          )\n",
       "        )\n",
       "      )\n",
       "      (10): T5Block(\n",
       "        (layer): ModuleList(\n",
       "          (0): T5LayerSelfAttention(\n",
       "            (SelfAttention): T5Attention(\n",
       "              (q): Linear(in_features=768, out_features=768, bias=False)\n",
       "              (k): Linear(in_features=768, out_features=768, bias=False)\n",
       "              (v): Linear(in_features=768, out_features=768, bias=False)\n",
       "              (o): Linear(in_features=768, out_features=768, bias=False)\n",
       "            )\n",
       "            (layer_norm): T5LayerNorm()\n",
       "            (dropout): Dropout(p=0.1, inplace=False)\n",
       "          )\n",
       "          (1): T5LayerCrossAttention(\n",
       "            (EncDecAttention): T5Attention(\n",
       "              (q): Linear(in_features=768, out_features=768, bias=False)\n",
       "              (k): Linear(in_features=768, out_features=768, bias=False)\n",
       "              (v): Linear(in_features=768, out_features=768, bias=False)\n",
       "              (o): Linear(in_features=768, out_features=768, bias=False)\n",
       "            )\n",
       "            (layer_norm): T5LayerNorm()\n",
       "            (dropout): Dropout(p=0.1, inplace=False)\n",
       "          )\n",
       "          (2): T5LayerFF(\n",
       "            (DenseReluDense): T5DenseReluDense(\n",
       "              (wi): Linear(in_features=768, out_features=3072, bias=False)\n",
       "              (wo): Linear(in_features=3072, out_features=768, bias=False)\n",
       "              (dropout): Dropout(p=0.1, inplace=False)\n",
       "            )\n",
       "            (layer_norm): T5LayerNorm()\n",
       "            (dropout): Dropout(p=0.1, inplace=False)\n",
       "          )\n",
       "        )\n",
       "      )\n",
       "      (11): T5Block(\n",
       "        (layer): ModuleList(\n",
       "          (0): T5LayerSelfAttention(\n",
       "            (SelfAttention): T5Attention(\n",
       "              (q): Linear(in_features=768, out_features=768, bias=False)\n",
       "              (k): Linear(in_features=768, out_features=768, bias=False)\n",
       "              (v): Linear(in_features=768, out_features=768, bias=False)\n",
       "              (o): Linear(in_features=768, out_features=768, bias=False)\n",
       "            )\n",
       "            (layer_norm): T5LayerNorm()\n",
       "            (dropout): Dropout(p=0.1, inplace=False)\n",
       "          )\n",
       "          (1): T5LayerCrossAttention(\n",
       "            (EncDecAttention): T5Attention(\n",
       "              (q): Linear(in_features=768, out_features=768, bias=False)\n",
       "              (k): Linear(in_features=768, out_features=768, bias=False)\n",
       "              (v): Linear(in_features=768, out_features=768, bias=False)\n",
       "              (o): Linear(in_features=768, out_features=768, bias=False)\n",
       "            )\n",
       "            (layer_norm): T5LayerNorm()\n",
       "            (dropout): Dropout(p=0.1, inplace=False)\n",
       "          )\n",
       "          (2): T5LayerFF(\n",
       "            (DenseReluDense): T5DenseReluDense(\n",
       "              (wi): Linear(in_features=768, out_features=3072, bias=False)\n",
       "              (wo): Linear(in_features=3072, out_features=768, bias=False)\n",
       "              (dropout): Dropout(p=0.1, inplace=False)\n",
       "            )\n",
       "            (layer_norm): T5LayerNorm()\n",
       "            (dropout): Dropout(p=0.1, inplace=False)\n",
       "          )\n",
       "        )\n",
       "      )\n",
       "    )\n",
       "    (final_layer_norm): T5LayerNorm()\n",
       "    (dropout): Dropout(p=0.1, inplace=False)\n",
       "  )\n",
       "  (lm_head): Linear(in_features=768, out_features=32128, bias=False)\n",
       ")"
      ]
     },
     "execution_count": 10,
     "metadata": {
      "tags": []
     },
     "output_type": "execute_result"
    }
   ],
   "source": [
    "tokenizer = T5Tokenizer.from_pretrained('t5-base')\n",
    "model = T5ForConditionalGeneration.from_pretrained('t5-base', return_dict=True)\n",
    "#moving the model to device(GPU/CPU)\n",
    "model.to(dev)"
   ]
  },
  {
   "cell_type": "code",
   "execution_count": 13,
   "metadata": {
    "id": "Dx0uCmTvLJFb"
   },
   "outputs": [],
   "source": []
  },
  {
   "cell_type": "markdown",
   "metadata": {
    "id": "C4oqM6giLLg4"
   },
   "source": [
    "## Initializing the Adafactor optimizer with parameter values suggested for t5"
   ]
  },
  {
   "cell_type": "code",
   "execution_count": 14,
   "metadata": {
    "id": "1KmOzTQj0E7L"
   },
   "outputs": [],
   "source": [
    "\n",
    "optimizer = Adafactor(\n",
    "    model.parameters(),\n",
    "    lr=1e-3,\n",
    "    eps=(1e-30, 1e-3),\n",
    "    clip_threshold=1.0,\n",
    "    decay_rate=-0.8,\n",
    "    beta1=None,\n",
    "    weight_decay=0.0,\n",
    "    relative_step=False,\n",
    "    scale_parameter=False,\n",
    "    warmup_init=False\n",
    ")\n",
    "\n",
    "  \n",
    "\n",
    "\n",
    "\n",
    "\n"
   ]
  },
  {
   "cell_type": "markdown",
   "metadata": {
    "id": "3ggfjCkdLcar"
   },
   "source": []
  },
  {
   "cell_type": "code",
   "execution_count": 15,
   "metadata": {
    "id": "wXw1NKtS1YV3"
   },
   "outputs": [],
   "source": [
    "\n",
    "from IPython.display import HTML, display\n",
    "\n",
    "def progress(loss,value, max=100):\n",
    "    return HTML(\"\"\" Batch loss :{loss}\n",
    "        <progress\n",
    "            value='{value}'\n",
    "            max='{max}',\n",
    "            style='width: 100%'\n",
    "        >\n",
    "            {value}\n",
    "        </progress>\n",
    "    \"\"\".format(loss=loss,value=value, max=max))"
   ]
  },
  {
   "cell_type": "code",
   "execution_count": 16,
   "metadata": {
    "id": "6i7zx4DmC_ap"
   },
   "outputs": [],
   "source": [
    "num_of_epochs=1"
   ]
  },
  {
   "cell_type": "markdown",
   "metadata": {
    "id": "hMe1hKshLgJn"
   },
   "source": [
    "## Training the model"
   ]
  },
  {
   "cell_type": "code",
   "execution_count": 17,
   "metadata": {
    "colab": {
     "base_uri": "https://localhost:8080/",
     "height": 88
    },
    "id": "qTvda_lWx2nC",
    "outputId": "d7124095-4532-4acf-c884-ba3725ed5e00"
   },
   "outputs": [
    {
     "name": "stdout",
     "output_type": "stream",
     "text": [
      "Running epoch: 1\n"
     ]
    },
    {
     "data": {
      "text/html": [
       " Batch loss :0.2204882651567459\n",
       "        <progress\n",
       "            value='4374'\n",
       "            max='4376',\n",
       "            style='width: 100%'\n",
       "        >\n",
       "            4374\n",
       "        </progress>\n",
       "    "
      ],
      "text/plain": [
       "<IPython.core.display.HTML object>"
      ]
     },
     "metadata": {
      "tags": []
     },
     "output_type": "display_data"
    },
    {
     "name": "stdout",
     "output_type": "stream",
     "text": [
      "Epoch: 1 , Running loss: 0.5023154723678316\n"
     ]
    }
   ],
   "source": [
    "#Sets the module in training mode\n",
    "model.train()\n",
    "\n",
    "loss_per_10_steps=[]\n",
    "for epoch in range(1,num_of_epochs+1):\n",
    "  print('Running epoch: {}'.format(epoch))\n",
    "  \n",
    "  running_loss=0\n",
    "\n",
    "  out = display(progress(1, num_of_batches+1), display_id=True)\n",
    "  for i in range(num_of_batches):\n",
    "    inputbatch=[]\n",
    "    labelbatch=[]\n",
    "    new_df=train_df[i*batch_size:i*batch_size+batch_size]\n",
    "    for indx,row in new_df.iterrows():\n",
    "      input = 'WebNLG: '+row['input_text']+'</s>' \n",
    "      labels = row['target_text']+'</s>'   \n",
    "      inputbatch.append(input)\n",
    "      labelbatch.append(labels)\n",
    "    inputbatch=tokenizer.batch_encode_plus(inputbatch,padding=True,max_length=400,return_tensors='pt')[\"input_ids\"]\n",
    "    labelbatch=tokenizer.batch_encode_plus(labelbatch,padding=True,max_length=400,return_tensors=\"pt\") [\"input_ids\"]\n",
    "    inputbatch=inputbatch.to(dev)\n",
    "    labelbatch=labelbatch.to(dev)\n",
    "\n",
    "    # clear out the gradients of all Variables \n",
    "    optimizer.zero_grad()\n",
    "\n",
    "    # Forward propogation\n",
    "    outputs = model(input_ids=inputbatch, labels=labelbatch)\n",
    "    loss = outputs.loss\n",
    "    loss_num=loss.item()\n",
    "    logits = outputs.logits\n",
    "    running_loss+=loss_num\n",
    "    if i%10 ==0:      \n",
    "      loss_per_10_steps.append(loss_num)\n",
    "    out.update(progress(loss_num,i, num_of_batches+1))\n",
    "\n",
    "    # calculating the gradients\n",
    "    loss.backward()\n",
    "\n",
    "    #updating the params\n",
    "    optimizer.step()\n",
    "    \n",
    "  running_loss=running_loss/int(num_of_batches)\n",
    "  print('Epoch: {} , Running loss: {}'.format(epoch,running_loss))\n",
    "  "
   ]
  },
  {
   "cell_type": "markdown",
   "metadata": {
    "id": "UwVEDrdZ545G"
   },
   "source": [
    "## Plotting the loss over time"
   ]
  },
  {
   "cell_type": "code",
   "execution_count": 18,
   "metadata": {
    "colab": {
     "base_uri": "https://localhost:8080/",
     "height": 295
    },
    "id": "7quhDpSxxTGL",
    "outputId": "178d30fc-bab5-4b72-dc98-001de870db03"
   },
   "outputs": [
    {
     "data": {
      "image/png": "[encoded data removed]",
      "text/plain": [
       "<Figure size 432x288 with 1 Axes>"
      ]
     },
     "metadata": {
      "needs_background": "light",
      "tags": []
     },
     "output_type": "display_data"
    }
   ],
   "source": [
    "import matplotlib.pyplot as plt\n",
    "   \n",
    "steps = [i*100 for i in range(len(loss_per_10_steps))]\n",
    "  \n",
    "plt.plot(steps, loss_per_10_steps)\n",
    "plt.title('Loss')\n",
    "plt.xlabel('Steps')\n",
    "plt.ylabel('Loss')\n",
    "plt.show()"
   ]
  },
  {
   "cell_type": "markdown",
   "metadata": {
    "id": "Nv3VHD585lc9"
   },
   "source": [
    "## Testing the model"
   ]
  },
  {
   "cell_type": "code",
   "execution_count": 20,
   "metadata": {
    "colab": {
     "base_uri": "https://localhost:8080/",
     "height": 35
    },
    "id": "JD6M4tb8l2Vs",
    "outputId": "af223a67-042a-46e3-d049-d178fdf1d451"
   },
   "outputs": [
    {
     "data": {
      "application/vnd.google.colaboratory.intrinsic+json": {
       "type": "string"
      },
      "text/plain": [
       "'<pad> Sidharth, who play football, is located in Delhi.</s>'"
      ]
     },
     "execution_count": 20,
     "metadata": {
      "tags": []
     },
     "output_type": "execute_result"
    }
   ],
   "source": [
    "model.eval()\n",
    "input_ids = tokenizer.encode(\"WebNLG: sidharth | hometown | Delhi && sidharth | play |  football </s>\", return_tensors=\"pt\")  # Batch size 1\n",
    "input_ids=input_ids.to(dev)\n",
    "outputs = model.generate(input_ids)\n",
    "tokenizer.decode(outputs[0])"
   ]
  },
  {
   "cell_type": "markdown",
   "metadata": {
    "id": "owrlOe0L62WK"
   },
   "source": [
    "Before testing the model further, lets learn how to serialize it and load from the path"
   ]
  },
  {
   "cell_type": "markdown",
   "metadata": {
    "id": "NG5aC_Yi5aQR"
   },
   "source": [
    "## Serializing the trained model"
   ]
  },
  {
   "cell_type": "code",
   "execution_count": 22,
   "metadata": {
    "id": "OZ1A6VdZtLTs"
   },
   "outputs": [],
   "source": [
    "torch.save(model.state_dict(),'pytoch_model.bin')\n"
   ]
  },
  {
   "cell_type": "code",
   "execution_count": null,
   "metadata": {
    "id": "Ea11_6C7Qth7"
   },
   "outputs": [],
   "source": []
  },
  {
   "cell_type": "code",
   "execution_count": null,
   "metadata": {
    "id": "vKiXqlxqzZ7b"
   },
   "outputs": [],
   "source": []
  },
  {
   "cell_type": "code",
   "execution_count": null,
   "metadata": {
    "id": "osi7Pi2ptSAq"
   },
   "outputs": [],
   "source": []
  },
  {
   "cell_type": "code",
   "execution_count": null,
   "metadata": {
    "id": "sdUbFoxPGjR7"
   },
   "outputs": [],
   "source": []
  },
  {
   "cell_type": "markdown",
   "metadata": {
    "id": "rxUEcuX_Gkkc"
   },
   "source": [
    "## Downloading the config file"
   ]
  },
  {
   "cell_type": "code",
   "execution_count": 23,
   "metadata": {
    "colab": {
     "base_uri": "https://localhost:8080/"
    },
    "id": "UlhGuidlyM5v",
    "outputId": "e574e512-92b9-410a-efd4-7578dffde3c5"
   },
   "outputs": [
    {
     "name": "stdout",
     "output_type": "stream",
     "text": [
      "--2021-04-10 19:41:07--  https://s3.amazonaws.com/models.huggingface.co/bert/t5-base-config.json\n",
      "Resolving s3.amazonaws.com (s3.amazonaws.com)... 52.216.133.5\n",
      "Connecting to s3.amazonaws.com (s3.amazonaws.com)|52.216.133.5|:443... connected.\n",
      "HTTP request sent, awaiting response... 200 OK\n",
      "Length: 1199 (1.2K) [application/json]\n",
      "Saving to: ‘t5-base-config.json’\n",
      "\n",
      "\r",
      "t5-base-config.json   0%[                    ]       0  --.-KB/s               \r",
      "t5-base-config.json 100%[===================>]   1.17K  --.-KB/s    in 0s      \n",
      "\n",
      "2021-04-10 19:41:07 (67.4 MB/s) - ‘t5-base-config.json’ saved [1199/1199]\n",
      "\n"
     ]
    }
   ],
   "source": [
    "!wget https://s3.amazonaws.com/models.huggingface.co/bert/t5-base-config.json"
   ]
  },
  {
   "cell_type": "code",
   "execution_count": 23,
   "metadata": {
    "id": "owUdVXZ9GvPt"
   },
   "outputs": [],
   "source": []
  },
  {
   "cell_type": "markdown",
   "metadata": {
    "id": "f_2MGB0jGv7T"
   },
   "source": [
    "## Loading the trained model from the path"
   ]
  },
  {
   "cell_type": "code",
   "execution_count": 24,
   "metadata": {
    "id": "ffh8_weNtSMN"
   },
   "outputs": [],
   "source": [
    "model = T5ForConditionalGeneration.from_pretrained('pytoch_model.bin', return_dict=True,config='t5-base-config.json')\n"
   ]
  },
  {
   "cell_type": "code",
   "execution_count": 24,
   "metadata": {
    "id": "PfpNp3Q8HZLu"
   },
   "outputs": [],
   "source": []
  },
  {
   "cell_type": "markdown",
   "metadata": {
    "id": "uXNP97trHZt9"
   },
   "source": [
    "## The Inference function"
   ]
  },
  {
   "cell_type": "code",
   "execution_count": 25,
   "metadata": {
    "id": "8bFXJDpQEJ-p"
   },
   "outputs": [],
   "source": [
    "def generate(text,max_length):\n",
    "  model.eval()\n",
    "  input_ids = tokenizer.encode(\"WebNLG:{} </s>\".format(text), return_tensors=\"pt\")  # Batch size 1\n",
    "  # input_ids.to(dev)\n",
    "  s = time.time()\n",
    "  outputs = model.generate(input_ids,max_length=max_length)\n",
    "  gen_text=tokenizer.decode(outputs[0]).replace('<pad>','').replace('</s>','')\n",
    "  elapsed = time.time() - s\n",
    "  print('Generated in {} seconds'.format(str(elapsed)[:4]))\n",
    "\n",
    "  \n",
    "  return gen_text"
   ]
  },
  {
   "cell_type": "code",
   "execution_count": 25,
   "metadata": {
    "id": "IIKmb1jR2XS3"
   },
   "outputs": [],
   "source": []
  },
  {
   "cell_type": "markdown",
   "metadata": {
    "id": "LlKSpuxcIP_5"
   },
   "source": [
    "# Now, Lets test it out !"
   ]
  },
  {
   "cell_type": "code",
   "execution_count": 28,
   "metadata": {
    "colab": {
     "base_uri": "https://localhost:8080/",
     "height": 54
    },
    "id": "dlKdla7l8Gs9",
    "outputId": "75be746e-52d7-41f7-aaf3-19448252a0c1"
   },
   "outputs": [
    {
     "name": "stdout",
     "output_type": "stream",
     "text": [
      "Generated in 0.57 seconds\n"
     ]
    },
    {
     "data": {
      "application/vnd.google.colaboratory.intrinsic+json": {
       "type": "string"
      },
      "text/plain": [
       "' Putin is the leader of Russia.'"
      ]
     },
     "execution_count": 28,
     "metadata": {
      "tags": []
     },
     "output_type": "execute_result"
    }
   ],
   "source": [
    "generate(' Russia | leader | Putin',512)"
   ]
  },
  {
   "cell_type": "code",
   "execution_count": 29,
   "metadata": {
    "colab": {
     "base_uri": "https://localhost:8080/",
     "height": 54
    },
    "id": "uThvhALg7m3s",
    "outputId": "6cf8c9c0-a65a-4985-8eba-2bbee1e88099"
   },
   "outputs": [
    {
     "name": "stdout",
     "output_type": "stream",
     "text": [
      "Generated in 1.19 seconds\n"
     ]
    },
    {
     "data": {
      "application/vnd.google.colaboratory.intrinsic+json": {
       "type": "string"
      },
      "text/plain": [
       "' Sidhath, a doctor, lives in Bombay and is a doctor'"
      ]
     },
     "execution_count": 29,
     "metadata": {
      "tags": []
     },
     "output_type": "execute_result"
    }
   ],
   "source": [
    "generate('Sidhath | profession | Doctor  && Sidharth | home_town |  Bombay',512)"
   ]
  },
  {
   "cell_type": "code",
   "execution_count": 30,
   "metadata": {
    "colab": {
     "base_uri": "https://localhost:8080/",
     "height": 54
    },
    "id": "3y08dQ7y75VX",
    "outputId": "790400dd-d012-466d-d629-522e41e95b5f"
   },
   "outputs": [
    {
     "name": "stdout",
     "output_type": "stream",
     "text": [
      "Generated in 1.22 seconds\n"
     ]
    },
    {
     "data": {
      "application/vnd.google.colaboratory.intrinsic+json": {
       "type": "string"
      },
      "text/plain": [
       "' Born on October 13th, 1964, Nie Haisheng was a fighter pilot.'"
      ]
     },
     "execution_count": 30,
     "metadata": {
      "tags": []
     },
     "output_type": "execute_result"
    }
   ],
   "source": [
    "generate('Nie_Haisheng | birthDate | 1964-10-13  && Nie_Haisheng | occupation | Fighter_pilot ',512)"
   ]
  },
  {
   "cell_type": "code",
   "execution_count": 31,
   "metadata": {
    "colab": {
     "base_uri": "https://localhost:8080/",
     "height": 54
    },
    "id": "DQkgoIHB9bOu",
    "outputId": "e132f06c-884d-4c3a-ed3e-fd9549cf7d8d"
   },
   "outputs": [
    {
     "name": "stdout",
     "output_type": "stream",
     "text": [
      "Generated in 1.14 seconds\n"
     ]
    },
    {
     "data": {
      "application/vnd.google.colaboratory.intrinsic+json": {
       "type": "string"
      },
      "text/plain": [
       "' Bananaman was created by Steve Bright and broadcasted by the BBC.'"
      ]
     },
     "execution_count": 31,
     "metadata": {
      "tags": []
     },
     "output_type": "execute_result"
    }
   ],
   "source": [
    "generate('Bananaman | creator | Steve_Bright &&  Bananaman | broadcastedBy | BBC',512)"
   ]
  },
  {
   "cell_type": "code",
   "execution_count": 32,
   "metadata": {
    "colab": {
     "base_uri": "https://localhost:8080/",
     "height": 54
    },
    "id": "h8X3LAar9ohw",
    "outputId": "848688ca-2127-48d6-d6e2-bdf79038d253"
   },
   "outputs": [
    {
     "name": "stdout",
     "output_type": "stream",
     "text": [
      "Generated in 1.22 seconds\n"
     ]
    },
    {
     "data": {
      "application/vnd.google.colaboratory.intrinsic+json": {
       "type": "string"
      },
      "text/plain": [
       "' Steve Bright created the character Bananaman which aired on 15th April 1986.'"
      ]
     },
     "execution_count": 32,
     "metadata": {
      "tags": []
     },
     "output_type": "execute_result"
    }
   ],
   "source": [
    "generate('Bananaman | lastAired | \"1986-04-15\" && Bananaman | creator | Steve_Bright',512)"
   ]
  },
  {
   "cell_type": "code",
   "execution_count": 33,
   "metadata": {
    "colab": {
     "base_uri": "https://localhost:8080/",
     "height": 54
    },
    "id": "3QHRL7QG9olX",
    "outputId": "627270ba-84c1-431f-eb23-1029d9f39b34"
   },
   "outputs": [
    {
     "name": "stdout",
     "output_type": "stream",
     "text": [
      "Generated in 1.24 seconds\n"
     ]
    },
    {
     "data": {
      "application/vnd.google.colaboratory.intrinsic+json": {
       "type": "string"
      },
      "text/plain": [
       "' The Mason School of Business are the current tenants of Alan B Miller Hall, which is located in'"
      ]
     },
     "execution_count": 33,
     "metadata": {
      "tags": []
     },
     "output_type": "execute_result"
    }
   ],
   "source": [
    "generate('Alan_B._Miller_Hall | currentTenants | Mason_School_of_Business && Alan_B._Miller_Hall | location | Williamsburg,_Virginia',512)"
   ]
  },
  {
   "cell_type": "code",
   "execution_count": 33,
   "metadata": {
    "id": "aQ9SahJsHKrB"
   },
   "outputs": [],
   "source": []
  },
  {
   "cell_type": "markdown",
   "metadata": {
    "id": "vT9-vCAXH8uw"
   },
   "source": [
    "## Results after quantization"
   ]
  },
  {
   "cell_type": "code",
   "execution_count": 34,
   "metadata": {
    "id": "H587bxDGzfVr"
   },
   "outputs": [],
   "source": [
    "import torch.quantization\n",
    "import torch.nn as nn\n",
    "\n",
    "quantized_model = torch.quantization.quantize_dynamic(\n",
    "    model, {nn.Linear,nn.Dropout,nn.LayerNorm}, dtype=torch.qint8\n",
    ")\n"
   ]
  },
  {
   "cell_type": "markdown",
   "metadata": {
    "id": "cFK85QPHT4Vp"
   },
   "source": [
    "Lets check the difference in size of the model"
   ]
  },
  {
   "cell_type": "code",
   "execution_count": 35,
   "metadata": {
    "colab": {
     "base_uri": "https://localhost:8080/"
    },
    "id": "gMuTHF8Kziqq",
    "outputId": "e423adb2-db08-49de-d1ca-0abdb43de703"
   },
   "outputs": [
    {
     "name": "stdout",
     "output_type": "stream",
     "text": [
      "Size (MB): 891.733816\n",
      "Size (MB): 322.031443\n"
     ]
    }
   ],
   "source": [
    "def print_size_of_model(model):\n",
    "    torch.save(model.state_dict(), \"temp.p\")\n",
    "    print('Size (MB):', os.path.getsize(\"temp.p\")/1e6)\n",
    "    os.remove('temp.p')\n",
    "\n",
    "print_size_of_model(model)\n",
    "print_size_of_model(quantized_model)"
   ]
  },
  {
   "cell_type": "code",
   "execution_count": 35,
   "metadata": {
    "id": "-_AcH6CQHKwy"
   },
   "outputs": [],
   "source": []
  },
  {
   "cell_type": "code",
   "execution_count": 36,
   "metadata": {
    "id": "JKhWKMiABPmi"
   },
   "outputs": [],
   "source": [
    "def quant_generate(text,max_length):\n",
    "  quantized_model.eval()\n",
    "  input_ids = tokenizer.encode(\"WebNLG:{} </s>\".format(text), return_tensors=\"pt\")  # Batch size 1\n",
    "  # input_ids.to(dev)\n",
    "  s = time.time()\n",
    "  outputs = quantized_model.generate(input_ids,max_length=max_length)\n",
    "  gen_text=tokenizer.decode(outputs[0]).replace('<pad>','').replace('</s>','')\n",
    "  elapsed = time.time() - s\n",
    "  print('Generated in {} seconds'.format(str(elapsed)[:4]))\n",
    "\n",
    "  \n",
    "  return gen_text"
   ]
  },
  {
   "cell_type": "code",
   "execution_count": 36,
   "metadata": {
    "id": "4AYLOcvcHKvG"
   },
   "outputs": [],
   "source": []
  },
  {
   "cell_type": "markdown",
   "metadata": {
    "id": "HbJKHp9pT-2c"
   },
   "source": [
    "Now lets check the difference in inference time"
   ]
  },
  {
   "cell_type": "code",
   "execution_count": 37,
   "metadata": {
    "colab": {
     "base_uri": "https://localhost:8080/",
     "height": 54
    },
    "id": "BtHtJ1PvHKll",
    "outputId": "72296750-6b4a-40de-931f-6651d81a75d0"
   },
   "outputs": [
    {
     "name": "stdout",
     "output_type": "stream",
     "text": [
      "Generated in 0.66 seconds\n"
     ]
    },
    {
     "data": {
      "application/vnd.google.colaboratory.intrinsic+json": {
       "type": "string"
      },
      "text/plain": [
       "' The CEO of Facebook is Mark and there are 52000 employees.'"
      ]
     },
     "execution_count": 37,
     "metadata": {
      "tags": []
     },
     "output_type": "execute_result"
    }
   ],
   "source": [
    "quant_generate('Facebook | CEO | Mark  && Facebook | number Of Employees | 52000 ',512)"
   ]
  },
  {
   "cell_type": "code",
   "execution_count": 38,
   "metadata": {
    "colab": {
     "base_uri": "https://localhost:8080/",
     "height": 54
    },
    "id": "2YMla4UF-0en",
    "outputId": "9bca7c15-f8ee-4b9e-f690-c3274fa7bfb9"
   },
   "outputs": [
    {
     "name": "stdout",
     "output_type": "stream",
     "text": [
      "Generated in 1.20 seconds\n"
     ]
    },
    {
     "data": {
      "application/vnd.google.colaboratory.intrinsic+json": {
       "type": "string"
      },
      "text/plain": [
       "' The CEO of the company, Facebook, has 52000 employees and is the CEO.'"
      ]
     },
     "execution_count": 38,
     "metadata": {
      "tags": []
     },
     "output_type": "execute_result"
    }
   ],
   "source": [
    "generate('Facebook | CEO | Mark  && Facebook | number Of Employees | 52000 ',512)"
   ]
  },
  {
   "cell_type": "code",
   "execution_count": null,
   "metadata": {
    "id": "8lJItBxPHKjq"
   },
   "outputs": [],
   "source": []
  }
 ],
 "metadata": {
  "accelerator": "GPU",
  "colab": {
   "collapsed_sections": [],
   "name": "WebNLG -Transformer -T5.ipynb",
   "provenance": []
  },
  "kernelspec": {
   "display_name": "Python 3 (ipykernel)",
   "language": "python",
   "name": "python3"
  },
  "language_info": {
   "codemirror_mode": {
    "name": "ipython",
    "version": 3
   },
   "file_extension": ".py",
   "mimetype": "text/x-python",
   "name": "python",
   "nbconvert_exporter": "python",
   "pygments_lexer": "ipython3",
   "version": "3.9.12"
  },
  "widgets": {
   "application/vnd.jupyter.widget-state+json": {
    "01ad9c215fae4296bc9e72b1b3c4fa64": {
     "model_module": "@jupyter-widgets/controls",
     "model_name": "DescriptionStyleModel",
     "state": {
      "_model_module": "@jupyter-widgets/controls",
      "_model_module_version": "1.5.0",
      "_model_name": "DescriptionStyleModel",
      "_view_count": null,
      "_view_module": "@jupyter-widgets/base",
      "_view_module_version": "1.2.0",
      "_view_name": "StyleView",
      "description_width": ""
     }
    },
    "0c7e75201e6e4c04963b57cabcfc525c": {
     "model_module": "@jupyter-widgets/controls",
     "model_name": "HBoxModel",
     "state": {
      "_dom_classes": [],
      "_model_module": "@jupyter-widgets/controls",
      "_model_module_version": "1.5.0",
      "_model_name": "HBoxModel",
      "_view_count": null,
      "_view_module": "@jupyter-widgets/controls",
      "_view_module_version": "1.5.0",
      "_view_name": "HBoxView",
      "box_style": "",
      "children": [
       "IPY_MODEL_4eab4a545af4430aa0953f1a9897001d",
       "IPY_MODEL_7ca1625e5c904128a6b90424519542ff"
      ],
      "layout": "IPY_MODEL_fe888ee5cc15454a88914f010c18d389"
     }
    },
    "15f6f633519a4d8d92664176eb1aeb76": {
     "model_module": "@jupyter-widgets/controls",
     "model_name": "FloatProgressModel",
     "state": {
      "_dom_classes": [],
      "_model_module": "@jupyter-widgets/controls",
      "_model_module_version": "1.5.0",
      "_model_name": "FloatProgressModel",
      "_view_count": null,
      "_view_module": "@jupyter-widgets/controls",
      "_view_module_version": "1.5.0",
      "_view_name": "ProgressView",
      "bar_style": "success",
      "description": "Downloading: 100%",
      "description_tooltip": null,
      "layout": "IPY_MODEL_7efc99954eb44bcf85989d71f2c15eac",
      "max": 1199,
      "min": 0,
      "orientation": "horizontal",
      "style": "IPY_MODEL_3d49aa452b7248d7ad3b56486c94e58b",
      "value": 1199
     }
    },
    "19aef11e25994d86b72777cc2e47c81c": {
     "model_module": "@jupyter-widgets/base",
     "model_name": "LayoutModel",
     "state": {
      "_model_module": "@jupyter-widgets/base",
      "_model_module_version": "1.2.0",
      "_model_name": "LayoutModel",
      "_view_count": null,
      "_view_module": "@jupyter-widgets/base",
      "_view_module_version": "1.2.0",
      "_view_name": "LayoutView",
      "align_content": null,
      "align_items": null,
      "align_self": null,
      "border": null,
      "bottom": null,
      "display": null,
      "flex": null,
      "flex_flow": null,
      "grid_area": null,
      "grid_auto_columns": null,
      "grid_auto_flow": null,
      "grid_auto_rows": null,
      "grid_column": null,
      "grid_gap": null,
      "grid_row": null,
      "grid_template_areas": null,
      "grid_template_columns": null,
      "grid_template_rows": null,
      "height": null,
      "justify_content": null,
      "justify_items": null,
      "left": null,
      "margin": null,
      "max_height": null,
      "max_width": null,
      "min_height": null,
      "min_width": null,
      "object_fit": null,
      "object_position": null,
      "order": null,
      "overflow": null,
      "overflow_x": null,
      "overflow_y": null,
      "padding": null,
      "right": null,
      "top": null,
      "visibility": null,
      "width": null
     }
    },
    "2654217c4c064994bca349a6f20b94e6": {
     "model_module": "@jupyter-widgets/base",
     "model_name": "LayoutModel",
     "state": {
      "_model_module": "@jupyter-widgets/base",
      "_model_module_version": "1.2.0",
      "_model_name": "LayoutModel",
      "_view_count": null,
      "_view_module": "@jupyter-widgets/base",
      "_view_module_version": "1.2.0",
      "_view_name": "LayoutView",
      "align_content": null,
      "align_items": null,
      "align_self": null,
      "border": null,
      "bottom": null,
      "display": null,
      "flex": null,
      "flex_flow": null,
      "grid_area": null,
      "grid_auto_columns": null,
      "grid_auto_flow": null,
      "grid_auto_rows": null,
      "grid_column": null,
      "grid_gap": null,
      "grid_row": null,
      "grid_template_areas": null,
      "grid_template_columns": null,
      "grid_template_rows": null,
      "height": null,
      "justify_content": null,
      "justify_items": null,
      "left": null,
      "margin": null,
      "max_height": null,
      "max_width": null,
      "min_height": null,
      "min_width": null,
      "object_fit": null,
      "object_position": null,
      "order": null,
      "overflow": null,
      "overflow_x": null,
      "overflow_y": null,
      "padding": null,
      "right": null,
      "top": null,
      "visibility": null,
      "width": null
     }
    },
    "29904c8a6734471b9a780137ae862de5": {
     "model_module": "@jupyter-widgets/base",
     "model_name": "LayoutModel",
     "state": {
      "_model_module": "@jupyter-widgets/base",
      "_model_module_version": "1.2.0",
      "_model_name": "LayoutModel",
      "_view_count": null,
      "_view_module": "@jupyter-widgets/base",
      "_view_module_version": "1.2.0",
      "_view_name": "LayoutView",
      "align_content": null,
      "align_items": null,
      "align_self": null,
      "border": null,
      "bottom": null,
      "display": null,
      "flex": null,
      "flex_flow": null,
      "grid_area": null,
      "grid_auto_columns": null,
      "grid_auto_flow": null,
      "grid_auto_rows": null,
      "grid_column": null,
      "grid_gap": null,
      "grid_row": null,
      "grid_template_areas": null,
      "grid_template_columns": null,
      "grid_template_rows": null,
      "height": null,
      "justify_content": null,
      "justify_items": null,
      "left": null,
      "margin": null,
      "max_height": null,
      "max_width": null,
      "min_height": null,
      "min_width": null,
      "object_fit": null,
      "object_position": null,
      "order": null,
      "overflow": null,
      "overflow_x": null,
      "overflow_y": null,
      "padding": null,
      "right": null,
      "top": null,
      "visibility": null,
      "width": null
     }
    },
    "2a5c927f4a5c4d959d26fb806a3c8980": {
     "model_module": "@jupyter-widgets/controls",
     "model_name": "DescriptionStyleModel",
     "state": {
      "_model_module": "@jupyter-widgets/controls",
      "_model_module_version": "1.5.0",
      "_model_name": "DescriptionStyleModel",
      "_view_count": null,
      "_view_module": "@jupyter-widgets/base",
      "_view_module_version": "1.2.0",
      "_view_name": "StyleView",
      "description_width": ""
     }
    },
    "2f0903e4d6c7480a86bab857a75f360f": {
     "model_module": "@jupyter-widgets/controls",
     "model_name": "FloatProgressModel",
     "state": {
      "_dom_classes": [],
      "_model_module": "@jupyter-widgets/controls",
      "_model_module_version": "1.5.0",
      "_model_name": "FloatProgressModel",
      "_view_count": null,
      "_view_module": "@jupyter-widgets/controls",
      "_view_module_version": "1.5.0",
      "_view_name": "ProgressView",
      "bar_style": "success",
      "description": "Downloading: 100%",
      "description_tooltip": null,
      "layout": "IPY_MODEL_d03a74b33b7943aa8c694ec8a660fafe",
      "max": 891691430,
      "min": 0,
      "orientation": "horizontal",
      "style": "IPY_MODEL_9bb04e2e16694ba4bad5e4faba6e6179",
      "value": 891691430
     }
    },
    "3b146d520e59471eb9092d53ad685523": {
     "model_module": "@jupyter-widgets/controls",
     "model_name": "ProgressStyleModel",
     "state": {
      "_model_module": "@jupyter-widgets/controls",
      "_model_module_version": "1.5.0",
      "_model_name": "ProgressStyleModel",
      "_view_count": null,
      "_view_module": "@jupyter-widgets/base",
      "_view_module_version": "1.2.0",
      "_view_name": "StyleView",
      "bar_color": null,
      "description_width": "initial"
     }
    },
    "3d49aa452b7248d7ad3b56486c94e58b": {
     "model_module": "@jupyter-widgets/controls",
     "model_name": "ProgressStyleModel",
     "state": {
      "_model_module": "@jupyter-widgets/controls",
      "_model_module_version": "1.5.0",
      "_model_name": "ProgressStyleModel",
      "_view_count": null,
      "_view_module": "@jupyter-widgets/base",
      "_view_module_version": "1.2.0",
      "_view_name": "StyleView",
      "bar_color": null,
      "description_width": "initial"
     }
    },
    "4eab4a545af4430aa0953f1a9897001d": {
     "model_module": "@jupyter-widgets/controls",
     "model_name": "FloatProgressModel",
     "state": {
      "_dom_classes": [],
      "_model_module": "@jupyter-widgets/controls",
      "_model_module_version": "1.5.0",
      "_model_name": "FloatProgressModel",
      "_view_count": null,
      "_view_module": "@jupyter-widgets/controls",
      "_view_module_version": "1.5.0",
      "_view_name": "ProgressView",
      "bar_style": "success",
      "description": "Downloading: 100%",
      "description_tooltip": null,
      "layout": "IPY_MODEL_d5c02331cdad45b19953a0f985e3d961",
      "max": 1389353,
      "min": 0,
      "orientation": "horizontal",
      "style": "IPY_MODEL_3b146d520e59471eb9092d53ad685523",
      "value": 1389353
     }
    },
    "541a8f948d994cefa96b434086c000da": {
     "model_module": "@jupyter-widgets/base",
     "model_name": "LayoutModel",
     "state": {
      "_model_module": "@jupyter-widgets/base",
      "_model_module_version": "1.2.0",
      "_model_name": "LayoutModel",
      "_view_count": null,
      "_view_module": "@jupyter-widgets/base",
      "_view_module_version": "1.2.0",
      "_view_name": "LayoutView",
      "align_content": null,
      "align_items": null,
      "align_self": null,
      "border": null,
      "bottom": null,
      "display": null,
      "flex": null,
      "flex_flow": null,
      "grid_area": null,
      "grid_auto_columns": null,
      "grid_auto_flow": null,
      "grid_auto_rows": null,
      "grid_column": null,
      "grid_gap": null,
      "grid_row": null,
      "grid_template_areas": null,
      "grid_template_columns": null,
      "grid_template_rows": null,
      "height": null,
      "justify_content": null,
      "justify_items": null,
      "left": null,
      "margin": null,
      "max_height": null,
      "max_width": null,
      "min_height": null,
      "min_width": null,
      "object_fit": null,
      "object_position": null,
      "order": null,
      "overflow": null,
      "overflow_x": null,
      "overflow_y": null,
      "padding": null,
      "right": null,
      "top": null,
      "visibility": null,
      "width": null
     }
    },
    "615577220759413abe6a5cfe30470dc4": {
     "model_module": "@jupyter-widgets/controls",
     "model_name": "HBoxModel",
     "state": {
      "_dom_classes": [],
      "_model_module": "@jupyter-widgets/controls",
      "_model_module_version": "1.5.0",
      "_model_name": "HBoxModel",
      "_view_count": null,
      "_view_module": "@jupyter-widgets/controls",
      "_view_module_version": "1.5.0",
      "_view_name": "HBoxView",
      "box_style": "",
      "children": [
       "IPY_MODEL_15f6f633519a4d8d92664176eb1aeb76",
       "IPY_MODEL_b1b232b5750447009d910214e4a4c6b9"
      ],
      "layout": "IPY_MODEL_29904c8a6734471b9a780137ae862de5"
     }
    },
    "7ca1625e5c904128a6b90424519542ff": {
     "model_module": "@jupyter-widgets/controls",
     "model_name": "HTMLModel",
     "state": {
      "_dom_classes": [],
      "_model_module": "@jupyter-widgets/controls",
      "_model_module_version": "1.5.0",
      "_model_name": "HTMLModel",
      "_view_count": null,
      "_view_module": "@jupyter-widgets/controls",
      "_view_module_version": "1.5.0",
      "_view_name": "HTMLView",
      "description": "",
      "description_tooltip": null,
      "layout": "IPY_MODEL_964af578fa5f4822a9bf7af8c6fb7b02",
      "placeholder": "​",
      "style": "IPY_MODEL_2a5c927f4a5c4d959d26fb806a3c8980",
      "value": " 1.39M/1.39M [00:22&lt;00:00, 62.5kB/s]"
     }
    },
    "7efc99954eb44bcf85989d71f2c15eac": {
     "model_module": "@jupyter-widgets/base",
     "model_name": "LayoutModel",
     "state": {
      "_model_module": "@jupyter-widgets/base",
      "_model_module_version": "1.2.0",
      "_model_name": "LayoutModel",
      "_view_count": null,
      "_view_module": "@jupyter-widgets/base",
      "_view_module_version": "1.2.0",
      "_view_name": "LayoutView",
      "align_content": null,
      "align_items": null,
      "align_self": null,
      "border": null,
      "bottom": null,
      "display": null,
      "flex": null,
      "flex_flow": null,
      "grid_area": null,
      "grid_auto_columns": null,
      "grid_auto_flow": null,
      "grid_auto_rows": null,
      "grid_column": null,
      "grid_gap": null,
      "grid_row": null,
      "grid_template_areas": null,
      "grid_template_columns": null,
      "grid_template_rows": null,
      "height": null,
      "justify_content": null,
      "justify_items": null,
      "left": null,
      "margin": null,
      "max_height": null,
      "max_width": null,
      "min_height": null,
      "min_width": null,
      "object_fit": null,
      "object_position": null,
      "order": null,
      "overflow": null,
      "overflow_x": null,
      "overflow_y": null,
      "padding": null,
      "right": null,
      "top": null,
      "visibility": null,
      "width": null
     }
    },
    "8d9ecc02356342b99f597204a93a283f": {
     "model_module": "@jupyter-widgets/controls",
     "model_name": "DescriptionStyleModel",
     "state": {
      "_model_module": "@jupyter-widgets/controls",
      "_model_module_version": "1.5.0",
      "_model_name": "DescriptionStyleModel",
      "_view_count": null,
      "_view_module": "@jupyter-widgets/base",
      "_view_module_version": "1.2.0",
      "_view_name": "StyleView",
      "description_width": ""
     }
    },
    "964af578fa5f4822a9bf7af8c6fb7b02": {
     "model_module": "@jupyter-widgets/base",
     "model_name": "LayoutModel",
     "state": {
      "_model_module": "@jupyter-widgets/base",
      "_model_module_version": "1.2.0",
      "_model_name": "LayoutModel",
      "_view_count": null,
      "_view_module": "@jupyter-widgets/base",
      "_view_module_version": "1.2.0",
      "_view_name": "LayoutView",
      "align_content": null,
      "align_items": null,
      "align_self": null,
      "border": null,
      "bottom": null,
      "display": null,
      "flex": null,
      "flex_flow": null,
      "grid_area": null,
      "grid_auto_columns": null,
      "grid_auto_flow": null,
      "grid_auto_rows": null,
      "grid_column": null,
      "grid_gap": null,
      "grid_row": null,
      "grid_template_areas": null,
      "grid_template_columns": null,
      "grid_template_rows": null,
      "height": null,
      "justify_content": null,
      "justify_items": null,
      "left": null,
      "margin": null,
      "max_height": null,
      "max_width": null,
      "min_height": null,
      "min_width": null,
      "object_fit": null,
      "object_position": null,
      "order": null,
      "overflow": null,
      "overflow_x": null,
      "overflow_y": null,
      "padding": null,
      "right": null,
      "top": null,
      "visibility": null,
      "width": null
     }
    },
    "9bb04e2e16694ba4bad5e4faba6e6179": {
     "model_module": "@jupyter-widgets/controls",
     "model_name": "ProgressStyleModel",
     "state": {
      "_model_module": "@jupyter-widgets/controls",
      "_model_module_version": "1.5.0",
      "_model_name": "ProgressStyleModel",
      "_view_count": null,
      "_view_module": "@jupyter-widgets/base",
      "_view_module_version": "1.2.0",
      "_view_name": "StyleView",
      "bar_color": null,
      "description_width": "initial"
     }
    },
    "a51d3f9d1e0c45cf9de5a96ccfe3a826": {
     "model_module": "@jupyter-widgets/base",
     "model_name": "LayoutModel",
     "state": {
      "_model_module": "@jupyter-widgets/base",
      "_model_module_version": "1.2.0",
      "_model_name": "LayoutModel",
      "_view_count": null,
      "_view_module": "@jupyter-widgets/base",
      "_view_module_version": "1.2.0",
      "_view_name": "LayoutView",
      "align_content": null,
      "align_items": null,
      "align_self": null,
      "border": null,
      "bottom": null,
      "display": null,
      "flex": null,
      "flex_flow": null,
      "grid_area": null,
      "grid_auto_columns": null,
      "grid_auto_flow": null,
      "grid_auto_rows": null,
      "grid_column": null,
      "grid_gap": null,
      "grid_row": null,
      "grid_template_areas": null,
      "grid_template_columns": null,
      "grid_template_rows": null,
      "height": null,
      "justify_content": null,
      "justify_items": null,
      "left": null,
      "margin": null,
      "max_height": null,
      "max_width": null,
      "min_height": null,
      "min_width": null,
      "object_fit": null,
      "object_position": null,
      "order": null,
      "overflow": null,
      "overflow_x": null,
      "overflow_y": null,
      "padding": null,
      "right": null,
      "top": null,
      "visibility": null,
      "width": null
     }
    },
    "b1b232b5750447009d910214e4a4c6b9": {
     "model_module": "@jupyter-widgets/controls",
     "model_name": "HTMLModel",
     "state": {
      "_dom_classes": [],
      "_model_module": "@jupyter-widgets/controls",
      "_model_module_version": "1.5.0",
      "_model_name": "HTMLModel",
      "_view_count": null,
      "_view_module": "@jupyter-widgets/controls",
      "_view_module_version": "1.5.0",
      "_view_name": "HTMLView",
      "description": "",
      "description_tooltip": null,
      "layout": "IPY_MODEL_19aef11e25994d86b72777cc2e47c81c",
      "placeholder": "​",
      "style": "IPY_MODEL_8d9ecc02356342b99f597204a93a283f",
      "value": " 1.20k/1.20k [00:00&lt;00:00, 6.30kB/s]"
     }
    },
    "d03a74b33b7943aa8c694ec8a660fafe": {
     "model_module": "@jupyter-widgets/base",
     "model_name": "LayoutModel",
     "state": {
      "_model_module": "@jupyter-widgets/base",
      "_model_module_version": "1.2.0",
      "_model_name": "LayoutModel",
      "_view_count": null,
      "_view_module": "@jupyter-widgets/base",
      "_view_module_version": "1.2.0",
      "_view_name": "LayoutView",
      "align_content": null,
      "align_items": null,
      "align_self": null,
      "border": null,
      "bottom": null,
      "display": null,
      "flex": null,
      "flex_flow": null,
      "grid_area": null,
      "grid_auto_columns": null,
      "grid_auto_flow": null,
      "grid_auto_rows": null,
      "grid_column": null,
      "grid_gap": null,
      "grid_row": null,
      "grid_template_areas": null,
      "grid_template_columns": null,
      "grid_template_rows": null,
      "height": null,
      "justify_content": null,
      "justify_items": null,
      "left": null,
      "margin": null,
      "max_height": null,
      "max_width": null,
      "min_height": null,
      "min_width": null,
      "object_fit": null,
      "object_position": null,
      "order": null,
      "overflow": null,
      "overflow_x": null,
      "overflow_y": null,
      "padding": null,
      "right": null,
      "top": null,
      "visibility": null,
      "width": null
     }
    },
    "d28ebddb437e4e68bdd3da8cdae1991c": {
     "model_module": "@jupyter-widgets/base",
     "model_name": "LayoutModel",
     "state": {
      "_model_module": "@jupyter-widgets/base",
      "_model_module_version": "1.2.0",
      "_model_name": "LayoutModel",
      "_view_count": null,
      "_view_module": "@jupyter-widgets/base",
      "_view_module_version": "1.2.0",
      "_view_name": "LayoutView",
      "align_content": null,
      "align_items": null,
      "align_self": null,
      "border": null,
      "bottom": null,
      "display": null,
      "flex": null,
      "flex_flow": null,
      "grid_area": null,
      "grid_auto_columns": null,
      "grid_auto_flow": null,
      "grid_auto_rows": null,
      "grid_column": null,
      "grid_gap": null,
      "grid_row": null,
      "grid_template_areas": null,
      "grid_template_columns": null,
      "grid_template_rows": null,
      "height": null,
      "justify_content": null,
      "justify_items": null,
      "left": null,
      "margin": null,
      "max_height": null,
      "max_width": null,
      "min_height": null,
      "min_width": null,
      "object_fit": null,
      "object_position": null,
      "order": null,
      "overflow": null,
      "overflow_x": null,
      "overflow_y": null,
      "padding": null,
      "right": null,
      "top": null,
      "visibility": null,
      "width": null
     }
    },
    "d5c02331cdad45b19953a0f985e3d961": {
     "model_module": "@jupyter-widgets/base",
     "model_name": "LayoutModel",
     "state": {
      "_model_module": "@jupyter-widgets/base",
      "_model_module_version": "1.2.0",
      "_model_name": "LayoutModel",
      "_view_count": null,
      "_view_module": "@jupyter-widgets/base",
      "_view_module_version": "1.2.0",
      "_view_name": "LayoutView",
      "align_content": null,
      "align_items": null,
      "align_self": null,
      "border": null,
      "bottom": null,
      "display": null,
      "flex": null,
      "flex_flow": null,
      "grid_area": null,
      "grid_auto_columns": null,
      "grid_auto_flow": null,
      "grid_auto_rows": null,
      "grid_column": null,
      "grid_gap": null,
      "grid_row": null,
      "grid_template_areas": null,
      "grid_template_columns": null,
      "grid_template_rows": null,
      "height": null,
      "justify_content": null,
      "justify_items": null,
      "left": null,
      "margin": null,
      "max_height": null,
      "max_width": null,
      "min_height": null,
      "min_width": null,
      "object_fit": null,
      "object_position": null,
      "order": null,
      "overflow": null,
      "overflow_x": null,
      "overflow_y": null,
      "padding": null,
      "right": null,
      "top": null,
      "visibility": null,
      "width": null
     }
    },
    "dc104e2c6a73446ba0d238ea90952ff1": {
     "model_module": "@jupyter-widgets/controls",
     "model_name": "HTMLModel",
     "state": {
      "_dom_classes": [],
      "_model_module": "@jupyter-widgets/controls",
      "_model_module_version": "1.5.0",
      "_model_name": "HTMLModel",
      "_view_count": null,
      "_view_module": "@jupyter-widgets/controls",
      "_view_module_version": "1.5.0",
      "_view_name": "HTMLView",
      "description": "",
      "description_tooltip": null,
      "layout": "IPY_MODEL_2654217c4c064994bca349a6f20b94e6",
      "placeholder": "​",
      "style": "IPY_MODEL_e815f78cb5b04361bcbf621a8fa8b0b7",
      "value": " 792k/792k [00:00&lt;00:00, 4.04MB/s]"
     }
    },
    "e48d4068acdc445e99b34b74e452d70d": {
     "model_module": "@jupyter-widgets/controls",
     "model_name": "HTMLModel",
     "state": {
      "_dom_classes": [],
      "_model_module": "@jupyter-widgets/controls",
      "_model_module_version": "1.5.0",
      "_model_name": "HTMLModel",
      "_view_count": null,
      "_view_module": "@jupyter-widgets/controls",
      "_view_module_version": "1.5.0",
      "_view_name": "HTMLView",
      "description": "",
      "description_tooltip": null,
      "layout": "IPY_MODEL_d28ebddb437e4e68bdd3da8cdae1991c",
      "placeholder": "​",
      "style": "IPY_MODEL_01ad9c215fae4296bc9e72b1b3c4fa64",
      "value": " 892M/892M [00:21&lt;00:00, 40.8MB/s]"
     }
    },
    "e64389198303458ea65b1514e6ae91ae": {
     "model_module": "@jupyter-widgets/controls",
     "model_name": "HBoxModel",
     "state": {
      "_dom_classes": [],
      "_model_module": "@jupyter-widgets/controls",
      "_model_module_version": "1.5.0",
      "_model_name": "HBoxModel",
      "_view_count": null,
      "_view_module": "@jupyter-widgets/controls",
      "_view_module_version": "1.5.0",
      "_view_name": "HBoxView",
      "box_style": "",
      "children": [
       "IPY_MODEL_fcb437074f2640e4b6716938853c7cda",
       "IPY_MODEL_dc104e2c6a73446ba0d238ea90952ff1"
      ],
      "layout": "IPY_MODEL_541a8f948d994cefa96b434086c000da"
     }
    },
    "e815f78cb5b04361bcbf621a8fa8b0b7": {
     "model_module": "@jupyter-widgets/controls",
     "model_name": "DescriptionStyleModel",
     "state": {
      "_model_module": "@jupyter-widgets/controls",
      "_model_module_version": "1.5.0",
      "_model_name": "DescriptionStyleModel",
      "_view_count": null,
      "_view_module": "@jupyter-widgets/base",
      "_view_module_version": "1.2.0",
      "_view_name": "StyleView",
      "description_width": ""
     }
    },
    "e9c6aa787d7e443197aa0de89849c2cf": {
     "model_module": "@jupyter-widgets/base",
     "model_name": "LayoutModel",
     "state": {
      "_model_module": "@jupyter-widgets/base",
      "_model_module_version": "1.2.0",
      "_model_name": "LayoutModel",
      "_view_count": null,
      "_view_module": "@jupyter-widgets/base",
      "_view_module_version": "1.2.0",
      "_view_name": "LayoutView",
      "align_content": null,
      "align_items": null,
      "align_self": null,
      "border": null,
      "bottom": null,
      "display": null,
      "flex": null,
      "flex_flow": null,
      "grid_area": null,
      "grid_auto_columns": null,
      "grid_auto_flow": null,
      "grid_auto_rows": null,
      "grid_column": null,
      "grid_gap": null,
      "grid_row": null,
      "grid_template_areas": null,
      "grid_template_columns": null,
      "grid_template_rows": null,
      "height": null,
      "justify_content": null,
      "justify_items": null,
      "left": null,
      "margin": null,
      "max_height": null,
      "max_width": null,
      "min_height": null,
      "min_width": null,
      "object_fit": null,
      "object_position": null,
      "order": null,
      "overflow": null,
      "overflow_x": null,
      "overflow_y": null,
      "padding": null,
      "right": null,
      "top": null,
      "visibility": null,
      "width": null
     }
    },
    "efbb05a8150540d5b63806da094242bf": {
     "model_module": "@jupyter-widgets/controls",
     "model_name": "ProgressStyleModel",
     "state": {
      "_model_module": "@jupyter-widgets/controls",
      "_model_module_version": "1.5.0",
      "_model_name": "ProgressStyleModel",
      "_view_count": null,
      "_view_module": "@jupyter-widgets/base",
      "_view_module_version": "1.2.0",
      "_view_name": "StyleView",
      "bar_color": null,
      "description_width": "initial"
     }
    },
    "f56f513e403b4e89abd171094c93d204": {
     "model_module": "@jupyter-widgets/controls",
     "model_name": "HBoxModel",
     "state": {
      "_dom_classes": [],
      "_model_module": "@jupyter-widgets/controls",
      "_model_module_version": "1.5.0",
      "_model_name": "HBoxModel",
      "_view_count": null,
      "_view_module": "@jupyter-widgets/controls",
      "_view_module_version": "1.5.0",
      "_view_name": "HBoxView",
      "box_style": "",
      "children": [
       "IPY_MODEL_2f0903e4d6c7480a86bab857a75f360f",
       "IPY_MODEL_e48d4068acdc445e99b34b74e452d70d"
      ],
      "layout": "IPY_MODEL_a51d3f9d1e0c45cf9de5a96ccfe3a826"
     }
    },
    "fcb437074f2640e4b6716938853c7cda": {
     "model_module": "@jupyter-widgets/controls",
     "model_name": "FloatProgressModel",
     "state": {
      "_dom_classes": [],
      "_model_module": "@jupyter-widgets/controls",
      "_model_module_version": "1.5.0",
      "_model_name": "FloatProgressModel",
      "_view_count": null,
      "_view_module": "@jupyter-widgets/controls",
      "_view_module_version": "1.5.0",
      "_view_name": "ProgressView",
      "bar_style": "success",
      "description": "Downloading: 100%",
      "description_tooltip": null,
      "layout": "IPY_MODEL_e9c6aa787d7e443197aa0de89849c2cf",
      "max": 791656,
      "min": 0,
      "orientation": "horizontal",
      "style": "IPY_MODEL_efbb05a8150540d5b63806da094242bf",
      "value": 791656
     }
    },
    "fe888ee5cc15454a88914f010c18d389": {
     "model_module": "@jupyter-widgets/base",
     "model_name": "LayoutModel",
     "state": {
      "_model_module": "@jupyter-widgets/base",
      "_model_module_version": "1.2.0",
      "_model_name": "LayoutModel",
      "_view_count": null,
      "_view_module": "@jupyter-widgets/base",
      "_view_module_version": "1.2.0",
      "_view_name": "LayoutView",
      "align_content": null,
      "align_items": null,
      "align_self": null,
      "border": null,
      "bottom": null,
      "display": null,
      "flex": null,
      "flex_flow": null,
      "grid_area": null,
      "grid_auto_columns": null,
      "grid_auto_flow": null,
      "grid_auto_rows": null,
      "grid_column": null,
      "grid_gap": null,
      "grid_row": null,
      "grid_template_areas": null,
      "grid_template_columns": null,
      "grid_template_rows": null,
      "height": null,
      "justify_content": null,
      "justify_items": null,
      "left": null,
      "margin": null,
      "max_height": null,
      "max_width": null,
      "min_height": null,
      "min_width": null,
      "object_fit": null,
      "object_position": null,
      "order": null,
      "overflow": null,
      "overflow_x": null,
      "overflow_y": null,
      "padding": null,
      "right": null,
      "top": null,
      "visibility": null,
      "width": null
     }
    }
   }
  }
 },
 "nbformat": 4,
 "nbformat_minor": 1
}
